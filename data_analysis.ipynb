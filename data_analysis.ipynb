{
 "cells": [
  {
   "cell_type": "markdown",
   "id": "350fecca-0f74-454d-b7bd-5c67a7bb5c01",
   "metadata": {},
   "source": [
    "Notebook to analyse user data"
   ]
  },
  {
   "cell_type": "code",
   "execution_count": 1,
   "id": "0e1132f0-e305-433c-9632-49ba0ffa4c76",
   "metadata": {},
   "outputs": [],
   "source": [
    "import yaml\n",
    "import os\n",
    "import pandas as pd\n",
    "from sqlalchemy import create_engine\n",
    "from sqlalchemy import inspect"
   ]
  },
  {
   "cell_type": "code",
   "execution_count": 2,
   "id": "5bf26b5d-ae57-48ac-8785-59537b3995c2",
   "metadata": {},
   "outputs": [],
   "source": [
    "from mrdc import database_utils\n",
    "from mrdc import data_extraction\n",
    "from mrdc import data_cleaning\n",
    "\n",
    "    "
   ]
  },
  {
   "cell_type": "code",
   "execution_count": null,
   "id": "97904bc6",
   "metadata": {},
   "outputs": [],
   "source": []
  },
  {
   "cell_type": "code",
   "execution_count": 3,
   "id": "b11069e4-a27d-4a07-a5da-f80de75b18d7",
   "metadata": {},
   "outputs": [
    {
     "data": {
      "text/plain": [
       "['legacy_store_details', 'legacy_users', 'orders_table']"
      ]
     },
     "execution_count": 3,
     "metadata": {},
     "output_type": "execute_result"
    }
   ],
   "source": [
    "base_path = r\"C:\\Users\\abhik\\Documents\\aicore\\multinational-retail-data-centralisation946\"\n",
    "data_connector = database_utils.DatabaseConnector(base_path=base_path, cred_file=\"db_creds.yaml\")\n",
    "data_extractor = data_extraction.DataExtractor()\n",
    "data_connector.list_db_table()\n"
   ]
  },
  {
   "cell_type": "code",
   "execution_count": null,
   "id": "5cb6d9a7",
   "metadata": {},
   "outputs": [],
   "source": []
  },
  {
   "cell_type": "code",
   "execution_count": 4,
   "id": "08095a6f-4974-405c-9310-d536dc066243",
   "metadata": {},
   "outputs": [
    {
     "data": {
      "text/html": [
       "<div>\n",
       "<style scoped>\n",
       "    .dataframe tbody tr th:only-of-type {\n",
       "        vertical-align: middle;\n",
       "    }\n",
       "\n",
       "    .dataframe tbody tr th {\n",
       "        vertical-align: top;\n",
       "    }\n",
       "\n",
       "    .dataframe thead th {\n",
       "        text-align: right;\n",
       "    }\n",
       "</style>\n",
       "<table border=\"1\" class=\"dataframe\">\n",
       "  <thead>\n",
       "    <tr style=\"text-align: right;\">\n",
       "      <th></th>\n",
       "      <th>index</th>\n",
       "      <th>first_name</th>\n",
       "      <th>last_name</th>\n",
       "      <th>date_of_birth</th>\n",
       "      <th>company</th>\n",
       "      <th>email_address</th>\n",
       "      <th>address</th>\n",
       "      <th>country</th>\n",
       "      <th>country_code</th>\n",
       "      <th>phone_number</th>\n",
       "      <th>join_date</th>\n",
       "      <th>user_uuid</th>\n",
       "    </tr>\n",
       "  </thead>\n",
       "  <tbody>\n",
       "    <tr>\n",
       "      <th>0</th>\n",
       "      <td>0</td>\n",
       "      <td>Sigfried</td>\n",
       "      <td>Noack</td>\n",
       "      <td>1990-09-30</td>\n",
       "      <td>Heydrich Junitz KG</td>\n",
       "      <td>rudi79@winkler.de</td>\n",
       "      <td>Zimmerstr. 1/0\\n59015 Gießen</td>\n",
       "      <td>Germany</td>\n",
       "      <td>DE</td>\n",
       "      <td>+49(0) 047905356</td>\n",
       "      <td>2018-10-10</td>\n",
       "      <td>93caf182-e4e9-4c6e-bebb-60a1a9dcf9b8</td>\n",
       "    </tr>\n",
       "    <tr>\n",
       "      <th>1</th>\n",
       "      <td>1</td>\n",
       "      <td>Guy</td>\n",
       "      <td>Allen</td>\n",
       "      <td>1940-12-01</td>\n",
       "      <td>Fox Ltd</td>\n",
       "      <td>rhodesclifford@henderson.com</td>\n",
       "      <td>Studio 22a\\nLynne terrace\\nMcCarthymouth\\nTF0 9GH</td>\n",
       "      <td>United Kingdom</td>\n",
       "      <td>GB</td>\n",
       "      <td>(0161) 496 0674</td>\n",
       "      <td>2001-12-20</td>\n",
       "      <td>8fe96c3a-d62d-4eb5-b313-cf12d9126a49</td>\n",
       "    </tr>\n",
       "    <tr>\n",
       "      <th>2</th>\n",
       "      <td>2</td>\n",
       "      <td>Harry</td>\n",
       "      <td>Lawrence</td>\n",
       "      <td>1995-08-02</td>\n",
       "      <td>Johnson, Jones and Harris</td>\n",
       "      <td>glen98@bryant-marshall.co.uk</td>\n",
       "      <td>92 Ann drive\\nJoanborough\\nSK0 6LR</td>\n",
       "      <td>United Kingdom</td>\n",
       "      <td>GB</td>\n",
       "      <td>+44(0)121 4960340</td>\n",
       "      <td>2016-12-16</td>\n",
       "      <td>fc461df4-b919-48b2-909e-55c95a03fe6b</td>\n",
       "    </tr>\n",
       "    <tr>\n",
       "      <th>3</th>\n",
       "      <td>3</td>\n",
       "      <td>Darren</td>\n",
       "      <td>Hussain</td>\n",
       "      <td>1972-09-23</td>\n",
       "      <td>Wheeler LLC</td>\n",
       "      <td>daniellebryan@thompson.org</td>\n",
       "      <td>19 Robinson meadow\\nNew Tracy\\nW22 2QG</td>\n",
       "      <td>United Kingdom</td>\n",
       "      <td>GB</td>\n",
       "      <td>(0306) 999 0871</td>\n",
       "      <td>2004-02-23</td>\n",
       "      <td>6104719f-ef14-4b09-bf04-fb0c4620acb0</td>\n",
       "    </tr>\n",
       "    <tr>\n",
       "      <th>4</th>\n",
       "      <td>4</td>\n",
       "      <td>Garry</td>\n",
       "      <td>Stone</td>\n",
       "      <td>1952-12-20</td>\n",
       "      <td>Warner Inc</td>\n",
       "      <td>billy14@long-warren.com</td>\n",
       "      <td>3 White pass\\nHunterborough\\nNN96 4UE</td>\n",
       "      <td>United Kingdom</td>\n",
       "      <td>GB</td>\n",
       "      <td>0121 496 0225</td>\n",
       "      <td>2006-09-01</td>\n",
       "      <td>9523a6d3-b2dd-4670-a51a-36aebc89f579</td>\n",
       "    </tr>\n",
       "  </tbody>\n",
       "</table>\n",
       "</div>"
      ],
      "text/plain": [
       "   index first_name last_name date_of_birth                    company  \\\n",
       "0      0   Sigfried     Noack    1990-09-30         Heydrich Junitz KG   \n",
       "1      1        Guy     Allen    1940-12-01                    Fox Ltd   \n",
       "2      2      Harry  Lawrence    1995-08-02  Johnson, Jones and Harris   \n",
       "3      3     Darren   Hussain    1972-09-23                Wheeler LLC   \n",
       "4      4      Garry     Stone    1952-12-20                 Warner Inc   \n",
       "\n",
       "                  email_address  \\\n",
       "0             rudi79@winkler.de   \n",
       "1  rhodesclifford@henderson.com   \n",
       "2  glen98@bryant-marshall.co.uk   \n",
       "3    daniellebryan@thompson.org   \n",
       "4       billy14@long-warren.com   \n",
       "\n",
       "                                             address         country  \\\n",
       "0                       Zimmerstr. 1/0\\n59015 Gießen         Germany   \n",
       "1  Studio 22a\\nLynne terrace\\nMcCarthymouth\\nTF0 9GH  United Kingdom   \n",
       "2                 92 Ann drive\\nJoanborough\\nSK0 6LR  United Kingdom   \n",
       "3             19 Robinson meadow\\nNew Tracy\\nW22 2QG  United Kingdom   \n",
       "4              3 White pass\\nHunterborough\\nNN96 4UE  United Kingdom   \n",
       "\n",
       "  country_code       phone_number   join_date  \\\n",
       "0           DE   +49(0) 047905356  2018-10-10   \n",
       "1           GB    (0161) 496 0674  2001-12-20   \n",
       "2           GB  +44(0)121 4960340  2016-12-16   \n",
       "3           GB    (0306) 999 0871  2004-02-23   \n",
       "4           GB      0121 496 0225  2006-09-01   \n",
       "\n",
       "                              user_uuid  \n",
       "0  93caf182-e4e9-4c6e-bebb-60a1a9dcf9b8  \n",
       "1  8fe96c3a-d62d-4eb5-b313-cf12d9126a49  \n",
       "2  fc461df4-b919-48b2-909e-55c95a03fe6b  \n",
       "3  6104719f-ef14-4b09-bf04-fb0c4620acb0  \n",
       "4  9523a6d3-b2dd-4670-a51a-36aebc89f579  "
      ]
     },
     "execution_count": 4,
     "metadata": {},
     "output_type": "execute_result"
    }
   ],
   "source": [
    "data_df = data_extractor.read_rds_table(data_connector, table_name=\"legacy_users\")\n",
    "data_df.head()"
   ]
  },
  {
   "cell_type": "code",
   "execution_count": 5,
   "id": "bd891240-f990-4b10-bbe3-bf0afff25b98",
   "metadata": {},
   "outputs": [
    {
     "data": {
      "text/plain": [
       "(15320, 12)"
      ]
     },
     "execution_count": 5,
     "metadata": {},
     "output_type": "execute_result"
    }
   ],
   "source": [
    "data_df.shape"
   ]
  },
  {
   "cell_type": "code",
   "execution_count": 6,
   "id": "267f16c5",
   "metadata": {},
   "outputs": [
    {
     "name": "stdout",
     "output_type": "stream",
     "text": [
      "<class 'pandas.core.frame.DataFrame'>\n",
      "RangeIndex: 15320 entries, 0 to 15319\n",
      "Data columns (total 12 columns):\n",
      " #   Column         Non-Null Count  Dtype \n",
      "---  ------         --------------  ----- \n",
      " 0   index          15320 non-null  int64 \n",
      " 1   first_name     15320 non-null  object\n",
      " 2   last_name      15320 non-null  object\n",
      " 3   date_of_birth  15320 non-null  object\n",
      " 4   company        15320 non-null  object\n",
      " 5   email_address  15320 non-null  object\n",
      " 6   address        15320 non-null  object\n",
      " 7   country        15320 non-null  object\n",
      " 8   country_code   15320 non-null  object\n",
      " 9   phone_number   15320 non-null  object\n",
      " 10  join_date      15320 non-null  object\n",
      " 11  user_uuid      15320 non-null  object\n",
      "dtypes: int64(1), object(11)\n",
      "memory usage: 1.4+ MB\n"
     ]
    }
   ],
   "source": [
    "data_df.info()"
   ]
  },
  {
   "cell_type": "code",
   "execution_count": 7,
   "id": "b0e42ede",
   "metadata": {},
   "outputs": [
    {
     "data": {
      "text/plain": [
       "United Kingdom    9371\n",
       "Germany           4708\n",
       "United States     1205\n",
       "NULL                21\n",
       "GMRBOMI0O1           1\n",
       "7ZNO5EBALT           1\n",
       "3518UD5CE8           1\n",
       "RQRB7RMTAD           1\n",
       "PNRMPSYR1J           1\n",
       "5EFAFD0JLI           1\n",
       "YOTSVPRBQ7           1\n",
       "50KUU3PQUF           1\n",
       "EWE3U0DZIV           1\n",
       "XN9NGL5C0B           1\n",
       "S0E37H52ON           1\n",
       "XGI7FM0VBJ           1\n",
       "AJ1ENKS3QL           1\n",
       "I7G4DMDZOZ           1\n",
       "T4WBZSW0XI           1\n",
       "Name: country, dtype: int64"
      ]
     },
     "execution_count": 7,
     "metadata": {},
     "output_type": "execute_result"
    }
   ],
   "source": [
    "data_df[\"country\"].value_counts()"
   ]
  },
  {
   "cell_type": "code",
   "execution_count": 8,
   "id": "31fb2939",
   "metadata": {},
   "outputs": [],
   "source": [
    "data_df = data_df[~data_df.isin([\"NULL\"]).any(axis=1)]"
   ]
  },
  {
   "cell_type": "code",
   "execution_count": 9,
   "id": "4aa183dc",
   "metadata": {},
   "outputs": [
    {
     "data": {
      "text/plain": [
       "(15299, 12)"
      ]
     },
     "execution_count": 9,
     "metadata": {},
     "output_type": "execute_result"
    }
   ],
   "source": [
    "data_df.shape"
   ]
  },
  {
   "cell_type": "code",
   "execution_count": 10,
   "id": "5854b313",
   "metadata": {},
   "outputs": [],
   "source": [
    "data_df = data_df[~data_df[\"country\"].str.contains(r'[0-9]')]"
   ]
  },
  {
   "cell_type": "code",
   "execution_count": 11,
   "id": "1291ca1d",
   "metadata": {},
   "outputs": [
    {
     "data": {
      "text/plain": [
       "United Kingdom    9371\n",
       "Germany           4708\n",
       "United States     1205\n",
       "Name: country, dtype: int64"
      ]
     },
     "execution_count": 11,
     "metadata": {},
     "output_type": "execute_result"
    }
   ],
   "source": [
    "data_df[\"country\"].value_counts()"
   ]
  },
  {
   "cell_type": "code",
   "execution_count": 12,
   "id": "2e4f8e93",
   "metadata": {},
   "outputs": [
    {
     "data": {
      "text/plain": [
       "GB     9365\n",
       "DE     4708\n",
       "US     1205\n",
       "GGB       6\n",
       "Name: country_code, dtype: int64"
      ]
     },
     "execution_count": 12,
     "metadata": {},
     "output_type": "execute_result"
    }
   ],
   "source": [
    "data_df[\"country_code\"].value_counts()"
   ]
  },
  {
   "cell_type": "code",
   "execution_count": 13,
   "id": "d0b66918",
   "metadata": {},
   "outputs": [],
   "source": [
    "data_df['country_code'] = data_df['country_code'].str.replace('GGB', 'GB')"
   ]
  },
  {
   "cell_type": "code",
   "execution_count": 14,
   "id": "eac319e8",
   "metadata": {},
   "outputs": [
    {
     "data": {
      "text/plain": [
       "GB    9371\n",
       "DE    4708\n",
       "US    1205\n",
       "Name: country_code, dtype: int64"
      ]
     },
     "execution_count": 14,
     "metadata": {},
     "output_type": "execute_result"
    }
   ],
   "source": [
    "data_df[\"country_code\"].value_counts()"
   ]
  },
  {
   "cell_type": "code",
   "execution_count": 15,
   "id": "751b4c5b",
   "metadata": {},
   "outputs": [
    {
     "data": {
      "text/plain": [
       "(15284, 12)"
      ]
     },
     "execution_count": 15,
     "metadata": {},
     "output_type": "execute_result"
    }
   ],
   "source": [
    "data_df.shape"
   ]
  },
  {
   "cell_type": "code",
   "execution_count": 16,
   "id": "89497ec8",
   "metadata": {},
   "outputs": [],
   "source": [
    "data_df = data_df[~data_df[\"first_name\"].str.contains(r'[0-9]')]"
   ]
  },
  {
   "cell_type": "code",
   "execution_count": 17,
   "id": "b0f222cd",
   "metadata": {},
   "outputs": [
    {
     "data": {
      "text/plain": [
       "(15284, 12)"
      ]
     },
     "execution_count": 17,
     "metadata": {},
     "output_type": "execute_result"
    }
   ],
   "source": [
    "data_df.shape"
   ]
  },
  {
   "cell_type": "code",
   "execution_count": 18,
   "id": "119a48e4",
   "metadata": {},
   "outputs": [],
   "source": [
    "data_df = data_df[~data_df[\"last_name\"].str.contains(r'[0-9]')]"
   ]
  },
  {
   "cell_type": "code",
   "execution_count": 19,
   "id": "f69e9914",
   "metadata": {},
   "outputs": [
    {
     "data": {
      "text/plain": [
       "(15284, 12)"
      ]
     },
     "execution_count": 19,
     "metadata": {},
     "output_type": "execute_result"
    }
   ],
   "source": [
    "data_df.shape"
   ]
  },
  {
   "cell_type": "code",
   "execution_count": 20,
   "id": "6d71a6e8",
   "metadata": {},
   "outputs": [],
   "source": [
    "import re\n",
    "pattern = r'[a-zA-Z0-9._%+-]+@[a-zA-Z0-9.-]+\\.[a-zA-Z]{2,}'\n",
    "\n",
    "# filter out valid emails using str.contains()\n",
    "valid_emails = data_df[\"email_address\"].str.contains(pattern)\n",
    "data_df = data_df[valid_emails]"
   ]
  },
  {
   "cell_type": "code",
   "execution_count": 21,
   "id": "cde0f1f6",
   "metadata": {},
   "outputs": [
    {
     "data": {
      "text/plain": [
       "(15242, 12)"
      ]
     },
     "execution_count": 21,
     "metadata": {},
     "output_type": "execute_result"
    }
   ],
   "source": [
    "data_df.shape"
   ]
  },
  {
   "cell_type": "code",
   "execution_count": 22,
   "id": "645436a4",
   "metadata": {},
   "outputs": [
    {
     "data": {
      "text/html": [
       "<div>\n",
       "<style scoped>\n",
       "    .dataframe tbody tr th:only-of-type {\n",
       "        vertical-align: middle;\n",
       "    }\n",
       "\n",
       "    .dataframe tbody tr th {\n",
       "        vertical-align: top;\n",
       "    }\n",
       "\n",
       "    .dataframe thead th {\n",
       "        text-align: right;\n",
       "    }\n",
       "</style>\n",
       "<table border=\"1\" class=\"dataframe\">\n",
       "  <thead>\n",
       "    <tr style=\"text-align: right;\">\n",
       "      <th></th>\n",
       "      <th>index</th>\n",
       "      <th>first_name</th>\n",
       "      <th>last_name</th>\n",
       "      <th>date_of_birth</th>\n",
       "      <th>company</th>\n",
       "      <th>email_address</th>\n",
       "      <th>address</th>\n",
       "      <th>country</th>\n",
       "      <th>country_code</th>\n",
       "      <th>phone_number</th>\n",
       "      <th>join_date</th>\n",
       "      <th>user_uuid</th>\n",
       "    </tr>\n",
       "  </thead>\n",
       "  <tbody>\n",
       "    <tr>\n",
       "      <th>0</th>\n",
       "      <td>0</td>\n",
       "      <td>Sigfried</td>\n",
       "      <td>Noack</td>\n",
       "      <td>1990-09-30</td>\n",
       "      <td>Heydrich Junitz KG</td>\n",
       "      <td>rudi79@winkler.de</td>\n",
       "      <td>Zimmerstr. 1/0\\n59015 Gießen</td>\n",
       "      <td>Germany</td>\n",
       "      <td>DE</td>\n",
       "      <td>+49(0) 047905356</td>\n",
       "      <td>2018-10-10</td>\n",
       "      <td>93caf182-e4e9-4c6e-bebb-60a1a9dcf9b8</td>\n",
       "    </tr>\n",
       "    <tr>\n",
       "      <th>1</th>\n",
       "      <td>1</td>\n",
       "      <td>Guy</td>\n",
       "      <td>Allen</td>\n",
       "      <td>1940-12-01</td>\n",
       "      <td>Fox Ltd</td>\n",
       "      <td>rhodesclifford@henderson.com</td>\n",
       "      <td>Studio 22a\\nLynne terrace\\nMcCarthymouth\\nTF0 9GH</td>\n",
       "      <td>United Kingdom</td>\n",
       "      <td>GB</td>\n",
       "      <td>(0161) 496 0674</td>\n",
       "      <td>2001-12-20</td>\n",
       "      <td>8fe96c3a-d62d-4eb5-b313-cf12d9126a49</td>\n",
       "    </tr>\n",
       "    <tr>\n",
       "      <th>2</th>\n",
       "      <td>2</td>\n",
       "      <td>Harry</td>\n",
       "      <td>Lawrence</td>\n",
       "      <td>1995-08-02</td>\n",
       "      <td>Johnson, Jones and Harris</td>\n",
       "      <td>glen98@bryant-marshall.co.uk</td>\n",
       "      <td>92 Ann drive\\nJoanborough\\nSK0 6LR</td>\n",
       "      <td>United Kingdom</td>\n",
       "      <td>GB</td>\n",
       "      <td>+44(0)121 4960340</td>\n",
       "      <td>2016-12-16</td>\n",
       "      <td>fc461df4-b919-48b2-909e-55c95a03fe6b</td>\n",
       "    </tr>\n",
       "    <tr>\n",
       "      <th>3</th>\n",
       "      <td>3</td>\n",
       "      <td>Darren</td>\n",
       "      <td>Hussain</td>\n",
       "      <td>1972-09-23</td>\n",
       "      <td>Wheeler LLC</td>\n",
       "      <td>daniellebryan@thompson.org</td>\n",
       "      <td>19 Robinson meadow\\nNew Tracy\\nW22 2QG</td>\n",
       "      <td>United Kingdom</td>\n",
       "      <td>GB</td>\n",
       "      <td>(0306) 999 0871</td>\n",
       "      <td>2004-02-23</td>\n",
       "      <td>6104719f-ef14-4b09-bf04-fb0c4620acb0</td>\n",
       "    </tr>\n",
       "    <tr>\n",
       "      <th>4</th>\n",
       "      <td>4</td>\n",
       "      <td>Garry</td>\n",
       "      <td>Stone</td>\n",
       "      <td>1952-12-20</td>\n",
       "      <td>Warner Inc</td>\n",
       "      <td>billy14@long-warren.com</td>\n",
       "      <td>3 White pass\\nHunterborough\\nNN96 4UE</td>\n",
       "      <td>United Kingdom</td>\n",
       "      <td>GB</td>\n",
       "      <td>0121 496 0225</td>\n",
       "      <td>2006-09-01</td>\n",
       "      <td>9523a6d3-b2dd-4670-a51a-36aebc89f579</td>\n",
       "    </tr>\n",
       "  </tbody>\n",
       "</table>\n",
       "</div>"
      ],
      "text/plain": [
       "   index first_name last_name date_of_birth                    company  \\\n",
       "0      0   Sigfried     Noack    1990-09-30         Heydrich Junitz KG   \n",
       "1      1        Guy     Allen    1940-12-01                    Fox Ltd   \n",
       "2      2      Harry  Lawrence    1995-08-02  Johnson, Jones and Harris   \n",
       "3      3     Darren   Hussain    1972-09-23                Wheeler LLC   \n",
       "4      4      Garry     Stone    1952-12-20                 Warner Inc   \n",
       "\n",
       "                  email_address  \\\n",
       "0             rudi79@winkler.de   \n",
       "1  rhodesclifford@henderson.com   \n",
       "2  glen98@bryant-marshall.co.uk   \n",
       "3    daniellebryan@thompson.org   \n",
       "4       billy14@long-warren.com   \n",
       "\n",
       "                                             address         country  \\\n",
       "0                       Zimmerstr. 1/0\\n59015 Gießen         Germany   \n",
       "1  Studio 22a\\nLynne terrace\\nMcCarthymouth\\nTF0 9GH  United Kingdom   \n",
       "2                 92 Ann drive\\nJoanborough\\nSK0 6LR  United Kingdom   \n",
       "3             19 Robinson meadow\\nNew Tracy\\nW22 2QG  United Kingdom   \n",
       "4              3 White pass\\nHunterborough\\nNN96 4UE  United Kingdom   \n",
       "\n",
       "  country_code       phone_number   join_date  \\\n",
       "0           DE   +49(0) 047905356  2018-10-10   \n",
       "1           GB    (0161) 496 0674  2001-12-20   \n",
       "2           GB  +44(0)121 4960340  2016-12-16   \n",
       "3           GB    (0306) 999 0871  2004-02-23   \n",
       "4           GB      0121 496 0225  2006-09-01   \n",
       "\n",
       "                              user_uuid  \n",
       "0  93caf182-e4e9-4c6e-bebb-60a1a9dcf9b8  \n",
       "1  8fe96c3a-d62d-4eb5-b313-cf12d9126a49  \n",
       "2  fc461df4-b919-48b2-909e-55c95a03fe6b  \n",
       "3  6104719f-ef14-4b09-bf04-fb0c4620acb0  \n",
       "4  9523a6d3-b2dd-4670-a51a-36aebc89f579  "
      ]
     },
     "execution_count": 22,
     "metadata": {},
     "output_type": "execute_result"
    }
   ],
   "source": [
    "data_df.head()"
   ]
  },
  {
   "cell_type": "code",
   "execution_count": 23,
   "id": "53ca9ec0",
   "metadata": {},
   "outputs": [],
   "source": [
    "pattern_numeric = r'[0-9]'\n",
    "\n",
    "# filter out valid emails using str.contains()\n",
    "valid_phone_number = data_df[\"phone_number\"].str.contains(pattern_numeric)\n",
    "data_df = data_df[valid_phone_number]"
   ]
  },
  {
   "cell_type": "code",
   "execution_count": 24,
   "id": "c48d9833",
   "metadata": {},
   "outputs": [
    {
     "data": {
      "text/html": [
       "<div>\n",
       "<style scoped>\n",
       "    .dataframe tbody tr th:only-of-type {\n",
       "        vertical-align: middle;\n",
       "    }\n",
       "\n",
       "    .dataframe tbody tr th {\n",
       "        vertical-align: top;\n",
       "    }\n",
       "\n",
       "    .dataframe thead th {\n",
       "        text-align: right;\n",
       "    }\n",
       "</style>\n",
       "<table border=\"1\" class=\"dataframe\">\n",
       "  <thead>\n",
       "    <tr style=\"text-align: right;\">\n",
       "      <th></th>\n",
       "      <th>index</th>\n",
       "      <th>first_name</th>\n",
       "      <th>last_name</th>\n",
       "      <th>date_of_birth</th>\n",
       "      <th>company</th>\n",
       "      <th>email_address</th>\n",
       "      <th>address</th>\n",
       "      <th>country</th>\n",
       "      <th>country_code</th>\n",
       "      <th>phone_number</th>\n",
       "      <th>join_date</th>\n",
       "      <th>user_uuid</th>\n",
       "    </tr>\n",
       "  </thead>\n",
       "  <tbody>\n",
       "    <tr>\n",
       "      <th>0</th>\n",
       "      <td>0</td>\n",
       "      <td>Sigfried</td>\n",
       "      <td>Noack</td>\n",
       "      <td>1990-09-30</td>\n",
       "      <td>Heydrich Junitz KG</td>\n",
       "      <td>rudi79@winkler.de</td>\n",
       "      <td>Zimmerstr. 1/0\\n59015 Gießen</td>\n",
       "      <td>Germany</td>\n",
       "      <td>DE</td>\n",
       "      <td>+49(0) 047905356</td>\n",
       "      <td>2018-10-10</td>\n",
       "      <td>93caf182-e4e9-4c6e-bebb-60a1a9dcf9b8</td>\n",
       "    </tr>\n",
       "    <tr>\n",
       "      <th>1</th>\n",
       "      <td>1</td>\n",
       "      <td>Guy</td>\n",
       "      <td>Allen</td>\n",
       "      <td>1940-12-01</td>\n",
       "      <td>Fox Ltd</td>\n",
       "      <td>rhodesclifford@henderson.com</td>\n",
       "      <td>Studio 22a\\nLynne terrace\\nMcCarthymouth\\nTF0 9GH</td>\n",
       "      <td>United Kingdom</td>\n",
       "      <td>GB</td>\n",
       "      <td>(0161) 496 0674</td>\n",
       "      <td>2001-12-20</td>\n",
       "      <td>8fe96c3a-d62d-4eb5-b313-cf12d9126a49</td>\n",
       "    </tr>\n",
       "    <tr>\n",
       "      <th>2</th>\n",
       "      <td>2</td>\n",
       "      <td>Harry</td>\n",
       "      <td>Lawrence</td>\n",
       "      <td>1995-08-02</td>\n",
       "      <td>Johnson, Jones and Harris</td>\n",
       "      <td>glen98@bryant-marshall.co.uk</td>\n",
       "      <td>92 Ann drive\\nJoanborough\\nSK0 6LR</td>\n",
       "      <td>United Kingdom</td>\n",
       "      <td>GB</td>\n",
       "      <td>+44(0)121 4960340</td>\n",
       "      <td>2016-12-16</td>\n",
       "      <td>fc461df4-b919-48b2-909e-55c95a03fe6b</td>\n",
       "    </tr>\n",
       "    <tr>\n",
       "      <th>3</th>\n",
       "      <td>3</td>\n",
       "      <td>Darren</td>\n",
       "      <td>Hussain</td>\n",
       "      <td>1972-09-23</td>\n",
       "      <td>Wheeler LLC</td>\n",
       "      <td>daniellebryan@thompson.org</td>\n",
       "      <td>19 Robinson meadow\\nNew Tracy\\nW22 2QG</td>\n",
       "      <td>United Kingdom</td>\n",
       "      <td>GB</td>\n",
       "      <td>(0306) 999 0871</td>\n",
       "      <td>2004-02-23</td>\n",
       "      <td>6104719f-ef14-4b09-bf04-fb0c4620acb0</td>\n",
       "    </tr>\n",
       "    <tr>\n",
       "      <th>4</th>\n",
       "      <td>4</td>\n",
       "      <td>Garry</td>\n",
       "      <td>Stone</td>\n",
       "      <td>1952-12-20</td>\n",
       "      <td>Warner Inc</td>\n",
       "      <td>billy14@long-warren.com</td>\n",
       "      <td>3 White pass\\nHunterborough\\nNN96 4UE</td>\n",
       "      <td>United Kingdom</td>\n",
       "      <td>GB</td>\n",
       "      <td>0121 496 0225</td>\n",
       "      <td>2006-09-01</td>\n",
       "      <td>9523a6d3-b2dd-4670-a51a-36aebc89f579</td>\n",
       "    </tr>\n",
       "  </tbody>\n",
       "</table>\n",
       "</div>"
      ],
      "text/plain": [
       "   index first_name last_name date_of_birth                    company  \\\n",
       "0      0   Sigfried     Noack    1990-09-30         Heydrich Junitz KG   \n",
       "1      1        Guy     Allen    1940-12-01                    Fox Ltd   \n",
       "2      2      Harry  Lawrence    1995-08-02  Johnson, Jones and Harris   \n",
       "3      3     Darren   Hussain    1972-09-23                Wheeler LLC   \n",
       "4      4      Garry     Stone    1952-12-20                 Warner Inc   \n",
       "\n",
       "                  email_address  \\\n",
       "0             rudi79@winkler.de   \n",
       "1  rhodesclifford@henderson.com   \n",
       "2  glen98@bryant-marshall.co.uk   \n",
       "3    daniellebryan@thompson.org   \n",
       "4       billy14@long-warren.com   \n",
       "\n",
       "                                             address         country  \\\n",
       "0                       Zimmerstr. 1/0\\n59015 Gießen         Germany   \n",
       "1  Studio 22a\\nLynne terrace\\nMcCarthymouth\\nTF0 9GH  United Kingdom   \n",
       "2                 92 Ann drive\\nJoanborough\\nSK0 6LR  United Kingdom   \n",
       "3             19 Robinson meadow\\nNew Tracy\\nW22 2QG  United Kingdom   \n",
       "4              3 White pass\\nHunterborough\\nNN96 4UE  United Kingdom   \n",
       "\n",
       "  country_code       phone_number   join_date  \\\n",
       "0           DE   +49(0) 047905356  2018-10-10   \n",
       "1           GB    (0161) 496 0674  2001-12-20   \n",
       "2           GB  +44(0)121 4960340  2016-12-16   \n",
       "3           GB    (0306) 999 0871  2004-02-23   \n",
       "4           GB      0121 496 0225  2006-09-01   \n",
       "\n",
       "                              user_uuid  \n",
       "0  93caf182-e4e9-4c6e-bebb-60a1a9dcf9b8  \n",
       "1  8fe96c3a-d62d-4eb5-b313-cf12d9126a49  \n",
       "2  fc461df4-b919-48b2-909e-55c95a03fe6b  \n",
       "3  6104719f-ef14-4b09-bf04-fb0c4620acb0  \n",
       "4  9523a6d3-b2dd-4670-a51a-36aebc89f579  "
      ]
     },
     "execution_count": 24,
     "metadata": {},
     "output_type": "execute_result"
    }
   ],
   "source": [
    "data_df.head()"
   ]
  },
  {
   "cell_type": "code",
   "execution_count": 25,
   "id": "3754513c-8279-442d-acfb-f38448434eee",
   "metadata": {},
   "outputs": [
    {
     "data": {
      "text/plain": [
       "index            0\n",
       "first_name       0\n",
       "last_name        0\n",
       "date_of_birth    0\n",
       "company          0\n",
       "email_address    0\n",
       "address          0\n",
       "country          0\n",
       "country_code     0\n",
       "phone_number     0\n",
       "join_date        0\n",
       "user_uuid        0\n",
       "dtype: int64"
      ]
     },
     "execution_count": 25,
     "metadata": {},
     "output_type": "execute_result"
    }
   ],
   "source": [
    "data_df.isnull().sum()"
   ]
  },
  {
   "cell_type": "code",
   "execution_count": 26,
   "id": "ca55d51f-e54c-4f1f-9343-634cef5bf77d",
   "metadata": {},
   "outputs": [
    {
     "data": {
      "text/plain": [
       "index            0\n",
       "first_name       0\n",
       "last_name        0\n",
       "date_of_birth    0\n",
       "company          0\n",
       "email_address    0\n",
       "address          0\n",
       "country          0\n",
       "country_code     0\n",
       "phone_number     0\n",
       "join_date        0\n",
       "user_uuid        0\n",
       "dtype: int64"
      ]
     },
     "execution_count": 26,
     "metadata": {},
     "output_type": "execute_result"
    }
   ],
   "source": [
    "data_df.isna().sum()"
   ]
  },
  {
   "cell_type": "code",
   "execution_count": 27,
   "id": "9eb355dc-df5e-4966-8b49-99617d3b1040",
   "metadata": {},
   "outputs": [
    {
     "name": "stdout",
     "output_type": "stream",
     "text": [
      "wrong date format present\n"
     ]
    }
   ],
   "source": [
    "if pd.to_datetime(data_df['date_of_birth'], format='%Y-%m-%d', errors='coerce').notnull().all():\n",
    "    print(\"no error\")\n",
    "else:\n",
    "    print(\"wrong date format present\")\n",
    "    "
   ]
  },
  {
   "cell_type": "code",
   "execution_count": 28,
   "id": "a24ac308-17a8-4c5c-a1b1-26cb89149d45",
   "metadata": {},
   "outputs": [
    {
     "name": "stdout",
     "output_type": "stream",
     "text": [
      "time data \"1968 October 16\" at position 359 doesn't match format specified\n"
     ]
    }
   ],
   "source": [
    "try:\n",
    "    pd.to_datetime(data_df['date_of_birth'], format='%Y-%m-%d', errors=\"raise\")\n",
    "except ValueError as e:\n",
    "    print(e)"
   ]
  },
  {
   "cell_type": "code",
   "execution_count": 29,
   "id": "09aeeaa1-586a-4fbd-9f57-60220dc41b28",
   "metadata": {},
   "outputs": [],
   "source": [
    "nan_df = pd.to_datetime(data_df['date_of_birth'], format='%Y-%m-%d', errors=\"coerce\")\n",
    "# above will return NaN when the format not match \n",
    "clean_df = data_df[nan_df.notna()]"
   ]
  },
  {
   "cell_type": "code",
   "execution_count": 30,
   "id": "5b158a11-9819-474f-b0ba-cc7ab85e1828",
   "metadata": {},
   "outputs": [
    {
     "data": {
      "text/plain": [
       "0       1990-09-30\n",
       "1       1940-12-01\n",
       "2       1995-08-02\n",
       "3       1972-09-23\n",
       "4       1952-12-20\n",
       "           ...    \n",
       "15315   1943-08-09\n",
       "15316   1948-08-20\n",
       "15317   1940-10-09\n",
       "15318   1952-06-04\n",
       "15319   1994-03-27\n",
       "Name: date_of_birth, Length: 15226, dtype: datetime64[ns]"
      ]
     },
     "execution_count": 30,
     "metadata": {},
     "output_type": "execute_result"
    }
   ],
   "source": [
    "pd.to_datetime(clean_df['date_of_birth'], format='%Y-%m-%d')"
   ]
  },
  {
   "cell_type": "code",
   "execution_count": 31,
   "id": "368add90-e107-4020-b821-e9b84dfdcf4b",
   "metadata": {},
   "outputs": [
    {
     "name": "stdout",
     "output_type": "stream",
     "text": [
      "<class 'pandas.core.frame.DataFrame'>\n",
      "Int64Index: 15226 entries, 0 to 15319\n",
      "Data columns (total 12 columns):\n",
      " #   Column         Non-Null Count  Dtype \n",
      "---  ------         --------------  ----- \n",
      " 0   index          15226 non-null  int64 \n",
      " 1   first_name     15226 non-null  object\n",
      " 2   last_name      15226 non-null  object\n",
      " 3   date_of_birth  15226 non-null  object\n",
      " 4   company        15226 non-null  object\n",
      " 5   email_address  15226 non-null  object\n",
      " 6   address        15226 non-null  object\n",
      " 7   country        15226 non-null  object\n",
      " 8   country_code   15226 non-null  object\n",
      " 9   phone_number   15226 non-null  object\n",
      " 10  join_date      15226 non-null  object\n",
      " 11  user_uuid      15226 non-null  object\n",
      "dtypes: int64(1), object(11)\n",
      "memory usage: 1.5+ MB\n"
     ]
    }
   ],
   "source": [
    "clean_df.info()"
   ]
  },
  {
   "cell_type": "code",
   "execution_count": 32,
   "id": "cf74d249-c54c-46eb-abe3-3ac08686635a",
   "metadata": {},
   "outputs": [
    {
     "data": {
      "text/html": [
       "<div>\n",
       "<style scoped>\n",
       "    .dataframe tbody tr th:only-of-type {\n",
       "        vertical-align: middle;\n",
       "    }\n",
       "\n",
       "    .dataframe tbody tr th {\n",
       "        vertical-align: top;\n",
       "    }\n",
       "\n",
       "    .dataframe thead th {\n",
       "        text-align: right;\n",
       "    }\n",
       "</style>\n",
       "<table border=\"1\" class=\"dataframe\">\n",
       "  <thead>\n",
       "    <tr style=\"text-align: right;\">\n",
       "      <th></th>\n",
       "      <th>index</th>\n",
       "    </tr>\n",
       "  </thead>\n",
       "  <tbody>\n",
       "    <tr>\n",
       "      <th>count</th>\n",
       "      <td>15242.000000</td>\n",
       "    </tr>\n",
       "    <tr>\n",
       "      <th>mean</th>\n",
       "      <td>7659.406508</td>\n",
       "    </tr>\n",
       "    <tr>\n",
       "      <th>std</th>\n",
       "      <td>4423.553882</td>\n",
       "    </tr>\n",
       "    <tr>\n",
       "      <th>min</th>\n",
       "      <td>0.000000</td>\n",
       "    </tr>\n",
       "    <tr>\n",
       "      <th>25%</th>\n",
       "      <td>3829.250000</td>\n",
       "    </tr>\n",
       "    <tr>\n",
       "      <th>50%</th>\n",
       "      <td>7659.500000</td>\n",
       "    </tr>\n",
       "    <tr>\n",
       "      <th>75%</th>\n",
       "      <td>11490.750000</td>\n",
       "    </tr>\n",
       "    <tr>\n",
       "      <th>max</th>\n",
       "      <td>15319.000000</td>\n",
       "    </tr>\n",
       "  </tbody>\n",
       "</table>\n",
       "</div>"
      ],
      "text/plain": [
       "              index\n",
       "count  15242.000000\n",
       "mean    7659.406508\n",
       "std     4423.553882\n",
       "min        0.000000\n",
       "25%     3829.250000\n",
       "50%     7659.500000\n",
       "75%    11490.750000\n",
       "max    15319.000000"
      ]
     },
     "execution_count": 32,
     "metadata": {},
     "output_type": "execute_result"
    }
   ],
   "source": [
    "\n",
    "data_df.describe()\n"
   ]
  },
  {
   "cell_type": "code",
   "execution_count": 33,
   "id": "17e38d55",
   "metadata": {},
   "outputs": [
    {
     "data": {
      "text/plain": [
       "array(['Heydrich Junitz KG', 'Fox Ltd', 'Johnson, Jones and Harris', ...,\n",
       "       'Robinson-Harris', 'Taylor, Fry and Jones',\n",
       "       'Phillips, Brown and Powell'], dtype=object)"
      ]
     },
     "execution_count": 33,
     "metadata": {},
     "output_type": "execute_result"
    }
   ],
   "source": [
    "\n",
    "data_df[\"company\"].unique()"
   ]
  },
  {
   "cell_type": "code",
   "execution_count": 34,
   "id": "c9846c01-c1ac-4967-b6ec-e3f19566bed5",
   "metadata": {},
   "outputs": [],
   "source": [
    "pdf_df= data_extractor.retrieve_pdf_data(\"https://data-handling-public.s3.eu-west-1.amazonaws.com/card_details.pdf\")\n"
   ]
  },
  {
   "cell_type": "code",
   "execution_count": 35,
   "id": "41cedfeb-1745-4b6d-a73d-a6f9fc6f7821",
   "metadata": {},
   "outputs": [
    {
     "data": {
      "text/html": [
       "<div>\n",
       "<style scoped>\n",
       "    .dataframe tbody tr th:only-of-type {\n",
       "        vertical-align: middle;\n",
       "    }\n",
       "\n",
       "    .dataframe tbody tr th {\n",
       "        vertical-align: top;\n",
       "    }\n",
       "\n",
       "    .dataframe thead th {\n",
       "        text-align: right;\n",
       "    }\n",
       "</style>\n",
       "<table border=\"1\" class=\"dataframe\">\n",
       "  <thead>\n",
       "    <tr style=\"text-align: right;\">\n",
       "      <th></th>\n",
       "      <th>card_number</th>\n",
       "      <th>expiry_date</th>\n",
       "      <th>card_provider</th>\n",
       "      <th>date_payment_confirmed</th>\n",
       "    </tr>\n",
       "  </thead>\n",
       "  <tbody>\n",
       "    <tr>\n",
       "      <th>0</th>\n",
       "      <td>30060773296197</td>\n",
       "      <td>09/26</td>\n",
       "      <td>Diners Club / Carte Blanche</td>\n",
       "      <td>2015-11-25</td>\n",
       "    </tr>\n",
       "    <tr>\n",
       "      <th>1</th>\n",
       "      <td>349624180933183</td>\n",
       "      <td>10/23</td>\n",
       "      <td>American Express</td>\n",
       "      <td>2001-06-18</td>\n",
       "    </tr>\n",
       "    <tr>\n",
       "      <th>2</th>\n",
       "      <td>3529023891650490</td>\n",
       "      <td>06/23</td>\n",
       "      <td>JCB 16 digit</td>\n",
       "      <td>2000-12-26</td>\n",
       "    </tr>\n",
       "    <tr>\n",
       "      <th>3</th>\n",
       "      <td>213142929492281</td>\n",
       "      <td>09/27</td>\n",
       "      <td>JCB 15 digit</td>\n",
       "      <td>2011-02-12</td>\n",
       "    </tr>\n",
       "    <tr>\n",
       "      <th>4</th>\n",
       "      <td>502067329974</td>\n",
       "      <td>10/25</td>\n",
       "      <td>Maestro</td>\n",
       "      <td>1997-03-13</td>\n",
       "    </tr>\n",
       "  </tbody>\n",
       "</table>\n",
       "</div>"
      ],
      "text/plain": [
       "        card_number expiry_date                card_provider  \\\n",
       "0    30060773296197       09/26  Diners Club / Carte Blanche   \n",
       "1   349624180933183       10/23             American Express   \n",
       "2  3529023891650490       06/23                 JCB 16 digit   \n",
       "3   213142929492281       09/27                 JCB 15 digit   \n",
       "4      502067329974       10/25                      Maestro   \n",
       "\n",
       "  date_payment_confirmed  \n",
       "0             2015-11-25  \n",
       "1             2001-06-18  \n",
       "2             2000-12-26  \n",
       "3             2011-02-12  \n",
       "4             1997-03-13  "
      ]
     },
     "execution_count": 35,
     "metadata": {},
     "output_type": "execute_result"
    }
   ],
   "source": [
    "pdf_df.head()"
   ]
  },
  {
   "cell_type": "code",
   "execution_count": 36,
   "id": "d8a7dd12-4bc9-4f07-9519-6e09d08affd0",
   "metadata": {},
   "outputs": [
    {
     "data": {
      "text/plain": [
       "(15309, 4)"
      ]
     },
     "execution_count": 36,
     "metadata": {},
     "output_type": "execute_result"
    }
   ],
   "source": [
    "pdf_df.shape"
   ]
  },
  {
   "cell_type": "code",
   "execution_count": 37,
   "id": "368e734c-d3df-4248-86d2-721705ff854c",
   "metadata": {},
   "outputs": [
    {
     "name": "stdout",
     "output_type": "stream",
     "text": [
      "<class 'pandas.core.frame.DataFrame'>\n",
      "Int64Index: 15309 entries, 0 to 18\n",
      "Data columns (total 4 columns):\n",
      " #   Column                  Non-Null Count  Dtype \n",
      "---  ------                  --------------  ----- \n",
      " 0   card_number             15309 non-null  object\n",
      " 1   expiry_date             15309 non-null  object\n",
      " 2   card_provider           15309 non-null  object\n",
      " 3   date_payment_confirmed  15309 non-null  object\n",
      "dtypes: object(4)\n",
      "memory usage: 598.0+ KB\n"
     ]
    }
   ],
   "source": [
    "pdf_df.info()"
   ]
  },
  {
   "cell_type": "code",
   "execution_count": 38,
   "id": "cfc01a93",
   "metadata": {},
   "outputs": [
    {
     "data": {
      "text/plain": [
       "card_number               0\n",
       "expiry_date               0\n",
       "card_provider             0\n",
       "date_payment_confirmed    0\n",
       "dtype: int64"
      ]
     },
     "execution_count": 38,
     "metadata": {},
     "output_type": "execute_result"
    }
   ],
   "source": [
    "pdf_df.isna().sum()"
   ]
  },
  {
   "cell_type": "code",
   "execution_count": 39,
   "id": "55583b64",
   "metadata": {},
   "outputs": [
    {
     "data": {
      "text/html": [
       "<div>\n",
       "<style scoped>\n",
       "    .dataframe tbody tr th:only-of-type {\n",
       "        vertical-align: middle;\n",
       "    }\n",
       "\n",
       "    .dataframe tbody tr th {\n",
       "        vertical-align: top;\n",
       "    }\n",
       "\n",
       "    .dataframe thead th {\n",
       "        text-align: right;\n",
       "    }\n",
       "</style>\n",
       "<table border=\"1\" class=\"dataframe\">\n",
       "  <thead>\n",
       "    <tr style=\"text-align: right;\">\n",
       "      <th></th>\n",
       "      <th>card_number</th>\n",
       "      <th>expiry_date</th>\n",
       "      <th>card_provider</th>\n",
       "      <th>date_payment_confirmed</th>\n",
       "    </tr>\n",
       "  </thead>\n",
       "  <tbody>\n",
       "    <tr>\n",
       "      <th>count</th>\n",
       "      <td>15309</td>\n",
       "      <td>15309</td>\n",
       "      <td>15309</td>\n",
       "      <td>15309</td>\n",
       "    </tr>\n",
       "    <tr>\n",
       "      <th>unique</th>\n",
       "      <td>15299</td>\n",
       "      <td>136</td>\n",
       "      <td>25</td>\n",
       "      <td>8270</td>\n",
       "    </tr>\n",
       "    <tr>\n",
       "      <th>top</th>\n",
       "      <td>NULL</td>\n",
       "      <td>03/28</td>\n",
       "      <td>VISA 16 digit</td>\n",
       "      <td>NULL</td>\n",
       "    </tr>\n",
       "    <tr>\n",
       "      <th>freq</th>\n",
       "      <td>11</td>\n",
       "      <td>163</td>\n",
       "      <td>2426</td>\n",
       "      <td>11</td>\n",
       "    </tr>\n",
       "  </tbody>\n",
       "</table>\n",
       "</div>"
      ],
      "text/plain": [
       "       card_number expiry_date  card_provider date_payment_confirmed\n",
       "count        15309       15309          15309                  15309\n",
       "unique       15299         136             25                   8270\n",
       "top           NULL       03/28  VISA 16 digit                   NULL\n",
       "freq            11         163           2426                     11"
      ]
     },
     "execution_count": 39,
     "metadata": {},
     "output_type": "execute_result"
    }
   ],
   "source": [
    "pdf_df.describe()"
   ]
  },
  {
   "cell_type": "code",
   "execution_count": 40,
   "id": "74d0c6b2",
   "metadata": {},
   "outputs": [
    {
     "data": {
      "text/plain": [
       "card_number               0\n",
       "expiry_date               0\n",
       "card_provider             0\n",
       "date_payment_confirmed    0\n",
       "dtype: int64"
      ]
     },
     "execution_count": 40,
     "metadata": {},
     "output_type": "execute_result"
    }
   ],
   "source": [
    "pdf_df.isnull().sum()"
   ]
  },
  {
   "cell_type": "code",
   "execution_count": 41,
   "id": "e2408102",
   "metadata": {},
   "outputs": [
    {
     "name": "stdout",
     "output_type": "stream",
     "text": [
      "time data \"NULL\" at position 377 doesn't match format specified\n"
     ]
    }
   ],
   "source": [
    "try:\n",
    "    pd.to_datetime(pdf_df['date_payment_confirmed'], format='%Y-%m-%d', errors=\"raise\")\n",
    "except ValueError as e:\n",
    "    print(e)"
   ]
  },
  {
   "cell_type": "code",
   "execution_count": 42,
   "id": "ea1ee77f",
   "metadata": {},
   "outputs": [
    {
     "data": {
      "text/html": [
       "<div>\n",
       "<style scoped>\n",
       "    .dataframe tbody tr th:only-of-type {\n",
       "        vertical-align: middle;\n",
       "    }\n",
       "\n",
       "    .dataframe tbody tr th {\n",
       "        vertical-align: top;\n",
       "    }\n",
       "\n",
       "    .dataframe thead th {\n",
       "        text-align: right;\n",
       "    }\n",
       "</style>\n",
       "<table border=\"1\" class=\"dataframe\">\n",
       "  <thead>\n",
       "    <tr style=\"text-align: right;\">\n",
       "      <th></th>\n",
       "      <th>card_number</th>\n",
       "      <th>expiry_date</th>\n",
       "      <th>card_provider</th>\n",
       "      <th>date_payment_confirmed</th>\n",
       "    </tr>\n",
       "  </thead>\n",
       "  <tbody>\n",
       "    <tr>\n",
       "      <th>47</th>\n",
       "      <td>NULL</td>\n",
       "      <td>NULL</td>\n",
       "      <td>NULL</td>\n",
       "      <td>NULL</td>\n",
       "    </tr>\n",
       "  </tbody>\n",
       "</table>\n",
       "</div>"
      ],
      "text/plain": [
       "   card_number expiry_date card_provider date_payment_confirmed\n",
       "47        NULL        NULL          NULL                   NULL"
      ]
     },
     "execution_count": 42,
     "metadata": {},
     "output_type": "execute_result"
    }
   ],
   "source": [
    "pdf_df.iloc[[377]]"
   ]
  },
  {
   "cell_type": "code",
   "execution_count": 43,
   "id": "d8da76e2",
   "metadata": {},
   "outputs": [
    {
     "data": {
      "text/html": [
       "<div>\n",
       "<style scoped>\n",
       "    .dataframe tbody tr th:only-of-type {\n",
       "        vertical-align: middle;\n",
       "    }\n",
       "\n",
       "    .dataframe tbody tr th {\n",
       "        vertical-align: top;\n",
       "    }\n",
       "\n",
       "    .dataframe thead th {\n",
       "        text-align: right;\n",
       "    }\n",
       "</style>\n",
       "<table border=\"1\" class=\"dataframe\">\n",
       "  <thead>\n",
       "    <tr style=\"text-align: right;\">\n",
       "      <th></th>\n",
       "      <th>card_number</th>\n",
       "      <th>expiry_date</th>\n",
       "      <th>card_provider</th>\n",
       "      <th>date_payment_confirmed</th>\n",
       "    </tr>\n",
       "  </thead>\n",
       "  <tbody>\n",
       "    <tr>\n",
       "      <th>47</th>\n",
       "      <td>NULL</td>\n",
       "      <td>NULL</td>\n",
       "      <td>NULL</td>\n",
       "      <td>NULL</td>\n",
       "    </tr>\n",
       "    <tr>\n",
       "      <th>22</th>\n",
       "      <td>NULL</td>\n",
       "      <td>NULL</td>\n",
       "      <td>NULL</td>\n",
       "      <td>NULL</td>\n",
       "    </tr>\n",
       "    <tr>\n",
       "      <th>4</th>\n",
       "      <td>NULL</td>\n",
       "      <td>NULL</td>\n",
       "      <td>NULL</td>\n",
       "      <td>NULL</td>\n",
       "    </tr>\n",
       "    <tr>\n",
       "      <th>53</th>\n",
       "      <td>NULL</td>\n",
       "      <td>NULL</td>\n",
       "      <td>NULL</td>\n",
       "      <td>NULL</td>\n",
       "    </tr>\n",
       "    <tr>\n",
       "      <th>14</th>\n",
       "      <td>NULL</td>\n",
       "      <td>NULL</td>\n",
       "      <td>NULL</td>\n",
       "      <td>NULL</td>\n",
       "    </tr>\n",
       "    <tr>\n",
       "      <th>25</th>\n",
       "      <td>NULL</td>\n",
       "      <td>NULL</td>\n",
       "      <td>NULL</td>\n",
       "      <td>NULL</td>\n",
       "    </tr>\n",
       "    <tr>\n",
       "      <th>16</th>\n",
       "      <td>NULL</td>\n",
       "      <td>NULL</td>\n",
       "      <td>NULL</td>\n",
       "      <td>NULL</td>\n",
       "    </tr>\n",
       "    <tr>\n",
       "      <th>21</th>\n",
       "      <td>NULL</td>\n",
       "      <td>NULL</td>\n",
       "      <td>NULL</td>\n",
       "      <td>NULL</td>\n",
       "    </tr>\n",
       "    <tr>\n",
       "      <th>29</th>\n",
       "      <td>NULL</td>\n",
       "      <td>NULL</td>\n",
       "      <td>NULL</td>\n",
       "      <td>NULL</td>\n",
       "    </tr>\n",
       "    <tr>\n",
       "      <th>6</th>\n",
       "      <td>NULL</td>\n",
       "      <td>NULL</td>\n",
       "      <td>NULL</td>\n",
       "      <td>NULL</td>\n",
       "    </tr>\n",
       "    <tr>\n",
       "      <th>13</th>\n",
       "      <td>NULL</td>\n",
       "      <td>NULL</td>\n",
       "      <td>NULL</td>\n",
       "      <td>NULL</td>\n",
       "    </tr>\n",
       "  </tbody>\n",
       "</table>\n",
       "</div>"
      ],
      "text/plain": [
       "   card_number expiry_date card_provider date_payment_confirmed\n",
       "47        NULL        NULL          NULL                   NULL\n",
       "22        NULL        NULL          NULL                   NULL\n",
       "4         NULL        NULL          NULL                   NULL\n",
       "53        NULL        NULL          NULL                   NULL\n",
       "14        NULL        NULL          NULL                   NULL\n",
       "25        NULL        NULL          NULL                   NULL\n",
       "16        NULL        NULL          NULL                   NULL\n",
       "21        NULL        NULL          NULL                   NULL\n",
       "29        NULL        NULL          NULL                   NULL\n",
       "6         NULL        NULL          NULL                   NULL\n",
       "13        NULL        NULL          NULL                   NULL"
      ]
     },
     "execution_count": 43,
     "metadata": {},
     "output_type": "execute_result"
    }
   ],
   "source": [
    "pdf_df[pdf_df['card_provider'].str.contains(\"NULL\")]"
   ]
  },
  {
   "cell_type": "code",
   "execution_count": 44,
   "id": "bc614cfe",
   "metadata": {},
   "outputs": [],
   "source": [
    "pdf_df_clean = pdf_df[~pdf_df.isin([\"NULL\"]).any(axis=1)]"
   ]
  },
  {
   "cell_type": "code",
   "execution_count": 45,
   "id": "1befc00d",
   "metadata": {},
   "outputs": [
    {
     "name": "stdout",
     "output_type": "stream",
     "text": [
      "time data \"GTC9KBWJO9\" at position 826 doesn't match format specified\n"
     ]
    }
   ],
   "source": [
    "try:\n",
    "    pd.to_datetime(pdf_df_clean['date_payment_confirmed'], format='%Y-%m-%d', errors=\"raise\")\n",
    "except ValueError as e:\n",
    "    print(e)"
   ]
  },
  {
   "cell_type": "code",
   "execution_count": 46,
   "id": "3e87bdba",
   "metadata": {},
   "outputs": [],
   "source": [
    "nan_df = pd.to_datetime(pdf_df_clean['date_payment_confirmed'], format='%Y-%m-%d', errors=\"coerce\")\n",
    "pdf_df_clean_date = pdf_df_clean[nan_df.notna()]"
   ]
  },
  {
   "cell_type": "code",
   "execution_count": 47,
   "id": "fef4d563",
   "metadata": {},
   "outputs": [
    {
     "data": {
      "text/html": [
       "<div>\n",
       "<style scoped>\n",
       "    .dataframe tbody tr th:only-of-type {\n",
       "        vertical-align: middle;\n",
       "    }\n",
       "\n",
       "    .dataframe tbody tr th {\n",
       "        vertical-align: top;\n",
       "    }\n",
       "\n",
       "    .dataframe thead th {\n",
       "        text-align: right;\n",
       "    }\n",
       "</style>\n",
       "<table border=\"1\" class=\"dataframe\">\n",
       "  <thead>\n",
       "    <tr style=\"text-align: right;\">\n",
       "      <th></th>\n",
       "      <th>card_number</th>\n",
       "      <th>expiry_date</th>\n",
       "      <th>card_provider</th>\n",
       "      <th>date_payment_confirmed</th>\n",
       "    </tr>\n",
       "  </thead>\n",
       "  <tbody>\n",
       "    <tr>\n",
       "      <th>0</th>\n",
       "      <td>30060773296197</td>\n",
       "      <td>09/26</td>\n",
       "      <td>Diners Club / Carte Blanche</td>\n",
       "      <td>2015-11-25</td>\n",
       "    </tr>\n",
       "    <tr>\n",
       "      <th>1</th>\n",
       "      <td>349624180933183</td>\n",
       "      <td>10/23</td>\n",
       "      <td>American Express</td>\n",
       "      <td>2001-06-18</td>\n",
       "    </tr>\n",
       "    <tr>\n",
       "      <th>2</th>\n",
       "      <td>3529023891650490</td>\n",
       "      <td>06/23</td>\n",
       "      <td>JCB 16 digit</td>\n",
       "      <td>2000-12-26</td>\n",
       "    </tr>\n",
       "    <tr>\n",
       "      <th>3</th>\n",
       "      <td>213142929492281</td>\n",
       "      <td>09/27</td>\n",
       "      <td>JCB 15 digit</td>\n",
       "      <td>2011-02-12</td>\n",
       "    </tr>\n",
       "    <tr>\n",
       "      <th>4</th>\n",
       "      <td>502067329974</td>\n",
       "      <td>10/25</td>\n",
       "      <td>Maestro</td>\n",
       "      <td>1997-03-13</td>\n",
       "    </tr>\n",
       "  </tbody>\n",
       "</table>\n",
       "</div>"
      ],
      "text/plain": [
       "        card_number expiry_date                card_provider  \\\n",
       "0    30060773296197       09/26  Diners Club / Carte Blanche   \n",
       "1   349624180933183       10/23             American Express   \n",
       "2  3529023891650490       06/23                 JCB 16 digit   \n",
       "3   213142929492281       09/27                 JCB 15 digit   \n",
       "4      502067329974       10/25                      Maestro   \n",
       "\n",
       "  date_payment_confirmed  \n",
       "0             2015-11-25  \n",
       "1             2001-06-18  \n",
       "2             2000-12-26  \n",
       "3             2011-02-12  \n",
       "4             1997-03-13  "
      ]
     },
     "execution_count": 47,
     "metadata": {},
     "output_type": "execute_result"
    }
   ],
   "source": [
    "pdf_df_clean_date.head()"
   ]
  },
  {
   "cell_type": "code",
   "execution_count": 48,
   "id": "e0d3e50f",
   "metadata": {},
   "outputs": [],
   "source": [
    "try:\n",
    "    pd.to_datetime(pdf_df_clean_date['date_payment_confirmed'], format='%Y-%m-%d', errors=\"raise\")\n",
    "except ValueError as e:\n",
    "    print(e)"
   ]
  },
  {
   "cell_type": "code",
   "execution_count": 49,
   "id": "09244093",
   "metadata": {},
   "outputs": [
    {
     "name": "stdout",
     "output_type": "stream",
     "text": [
      "day is out of range for month\n"
     ]
    }
   ],
   "source": [
    "try:\n",
    "    pd.to_datetime(pdf_df_clean_date['expiry_date'], format='%m/%d', errors=\"raise\")\n",
    "except ValueError as e:\n",
    "    print(e)"
   ]
  },
  {
   "cell_type": "code",
   "execution_count": 50,
   "id": "45d5be37",
   "metadata": {},
   "outputs": [
    {
     "data": {
      "text/plain": [
       "(15277, 4)"
      ]
     },
     "execution_count": 50,
     "metadata": {},
     "output_type": "execute_result"
    }
   ],
   "source": [
    "pdf_df_clean_date.shape"
   ]
  },
  {
   "cell_type": "code",
   "execution_count": 51,
   "id": "71dd2775",
   "metadata": {},
   "outputs": [],
   "source": [
    "nan_df_expiry = pd.to_datetime(pdf_df_clean_date['expiry_date'], format='%m/%d', errors=\"coerce\")\n",
    "pdf_df_clean_date_expiry = pdf_df_clean_date[nan_df_expiry.notna()]"
   ]
  },
  {
   "cell_type": "code",
   "execution_count": 52,
   "id": "8a16aa97",
   "metadata": {},
   "outputs": [
    {
     "data": {
      "text/plain": [
       "(13146, 4)"
      ]
     },
     "execution_count": 52,
     "metadata": {},
     "output_type": "execute_result"
    }
   ],
   "source": [
    "pdf_df_clean_date_expiry.shape"
   ]
  },
  {
   "cell_type": "code",
   "execution_count": 53,
   "id": "b192d056",
   "metadata": {},
   "outputs": [
    {
     "data": {
      "text/plain": [
       "array(['Diners Club / Carte Blanche', 'American Express', 'JCB 16 digit',\n",
       "       'JCB 15 digit', 'Maestro', 'Discover', 'Mastercard',\n",
       "       'VISA 19 digit', 'VISA 16 digit', 'VISA 13 digit'], dtype=object)"
      ]
     },
     "execution_count": 53,
     "metadata": {},
     "output_type": "execute_result"
    }
   ],
   "source": [
    "pdf_df_clean_date_expiry[\"card_provider\"].unique()"
   ]
  },
  {
   "cell_type": "code",
   "execution_count": 54,
   "id": "1f7e62b6",
   "metadata": {},
   "outputs": [
    {
     "data": {
      "text/plain": [
       "<AxesSubplot:>"
      ]
     },
     "execution_count": 54,
     "metadata": {},
     "output_type": "execute_result"
    },
    {
     "data": {
      "image/png": "[encoded data removed]",
      "text/plain": [
       "<Figure size 640x480 with 1 Axes>"
      ]
     },
     "metadata": {},
     "output_type": "display_data"
    }
   ],
   "source": [
    "pdf_df_clean_date_expiry[\"card_provider\"].value_counts().plot(kind=\"bar\")"
   ]
  },
  {
   "cell_type": "code",
   "execution_count": 55,
   "id": "d1e9e53e",
   "metadata": {},
   "outputs": [
    {
     "data": {
      "text/plain": [
       "0     NaN\n",
       "1     NaN\n",
       "2     NaN\n",
       "3     NaN\n",
       "4     NaN\n",
       "     ... \n",
       "13    NaN\n",
       "14    NaN\n",
       "15    NaN\n",
       "16    NaN\n",
       "17    NaN\n",
       "Name: card_number, Length: 13146, dtype: object"
      ]
     },
     "execution_count": 55,
     "metadata": {},
     "output_type": "execute_result"
    }
   ],
   "source": [
    "pdf_df_clean_date_expiry['card_number'].str.contains('[^a-zA-Z]')"
   ]
  },
  {
   "cell_type": "code",
   "execution_count": 56,
   "id": "a6f51560",
   "metadata": {},
   "outputs": [
    {
     "data": {
      "text/html": [
       "<div>\n",
       "<style scoped>\n",
       "    .dataframe tbody tr th:only-of-type {\n",
       "        vertical-align: middle;\n",
       "    }\n",
       "\n",
       "    .dataframe tbody tr th {\n",
       "        vertical-align: top;\n",
       "    }\n",
       "\n",
       "    .dataframe thead th {\n",
       "        text-align: right;\n",
       "    }\n",
       "</style>\n",
       "<table border=\"1\" class=\"dataframe\">\n",
       "  <thead>\n",
       "    <tr style=\"text-align: right;\">\n",
       "      <th></th>\n",
       "      <th>card_number</th>\n",
       "      <th>expiry_date</th>\n",
       "      <th>card_provider</th>\n",
       "      <th>date_payment_confirmed</th>\n",
       "    </tr>\n",
       "  </thead>\n",
       "  <tbody>\n",
       "    <tr>\n",
       "      <th>0</th>\n",
       "      <td>30060773296197</td>\n",
       "      <td>09/26</td>\n",
       "      <td>Diners Club / Carte Blanche</td>\n",
       "      <td>2015-11-25</td>\n",
       "    </tr>\n",
       "    <tr>\n",
       "      <th>1</th>\n",
       "      <td>349624180933183</td>\n",
       "      <td>10/23</td>\n",
       "      <td>American Express</td>\n",
       "      <td>2001-06-18</td>\n",
       "    </tr>\n",
       "    <tr>\n",
       "      <th>2</th>\n",
       "      <td>3529023891650490</td>\n",
       "      <td>06/23</td>\n",
       "      <td>JCB 16 digit</td>\n",
       "      <td>2000-12-26</td>\n",
       "    </tr>\n",
       "    <tr>\n",
       "      <th>3</th>\n",
       "      <td>213142929492281</td>\n",
       "      <td>09/27</td>\n",
       "      <td>JCB 15 digit</td>\n",
       "      <td>2011-02-12</td>\n",
       "    </tr>\n",
       "    <tr>\n",
       "      <th>4</th>\n",
       "      <td>502067329974</td>\n",
       "      <td>10/25</td>\n",
       "      <td>Maestro</td>\n",
       "      <td>1997-03-13</td>\n",
       "    </tr>\n",
       "  </tbody>\n",
       "</table>\n",
       "</div>"
      ],
      "text/plain": [
       "        card_number expiry_date                card_provider  \\\n",
       "0    30060773296197       09/26  Diners Club / Carte Blanche   \n",
       "1   349624180933183       10/23             American Express   \n",
       "2  3529023891650490       06/23                 JCB 16 digit   \n",
       "3   213142929492281       09/27                 JCB 15 digit   \n",
       "4      502067329974       10/25                      Maestro   \n",
       "\n",
       "  date_payment_confirmed  \n",
       "0             2015-11-25  \n",
       "1             2001-06-18  \n",
       "2             2000-12-26  \n",
       "3             2011-02-12  \n",
       "4             1997-03-13  "
      ]
     },
     "execution_count": 56,
     "metadata": {},
     "output_type": "execute_result"
    }
   ],
   "source": [
    "pdf_df_clean_date_expiry.head()"
   ]
  },
  {
   "cell_type": "code",
   "execution_count": 57,
   "id": "e90d5128",
   "metadata": {},
   "outputs": [
    {
     "name": "stdout",
     "output_type": "stream",
     "text": [
      "<class 'pandas.core.frame.DataFrame'>\n",
      "Int64Index: 13146 entries, 0 to 17\n",
      "Data columns (total 4 columns):\n",
      " #   Column                  Non-Null Count  Dtype \n",
      "---  ------                  --------------  ----- \n",
      " 0   card_number             13146 non-null  object\n",
      " 1   expiry_date             13146 non-null  object\n",
      " 2   card_provider           13146 non-null  object\n",
      " 3   date_payment_confirmed  13146 non-null  object\n",
      "dtypes: object(4)\n",
      "memory usage: 513.5+ KB\n"
     ]
    }
   ],
   "source": [
    "pdf_df_clean_date_expiry.info()"
   ]
  },
  {
   "cell_type": "code",
   "execution_count": 58,
   "id": "fbe6af9e",
   "metadata": {},
   "outputs": [],
   "source": [
    "pattern_numeric = r'[0-9]'\n",
    "\n",
    "# filter out valid emails using str.contains()\n",
    "valid_card_number = pdf_df_clean_date_expiry[\"card_number\"].str.contains(pattern_numeric, na=False)\n",
    "pdf_df_final  = pdf_df_clean_date_expiry[valid_card_number]"
   ]
  },
  {
   "cell_type": "code",
   "execution_count": 59,
   "id": "67fc16a3",
   "metadata": {},
   "outputs": [
    {
     "data": {
      "text/html": [
       "<div>\n",
       "<style scoped>\n",
       "    .dataframe tbody tr th:only-of-type {\n",
       "        vertical-align: middle;\n",
       "    }\n",
       "\n",
       "    .dataframe tbody tr th {\n",
       "        vertical-align: top;\n",
       "    }\n",
       "\n",
       "    .dataframe thead th {\n",
       "        text-align: right;\n",
       "    }\n",
       "</style>\n",
       "<table border=\"1\" class=\"dataframe\">\n",
       "  <thead>\n",
       "    <tr style=\"text-align: right;\">\n",
       "      <th></th>\n",
       "      <th>card_number</th>\n",
       "      <th>expiry_date</th>\n",
       "      <th>card_provider</th>\n",
       "      <th>date_payment_confirmed</th>\n",
       "    </tr>\n",
       "  </thead>\n",
       "  <tbody>\n",
       "    <tr>\n",
       "      <th>0</th>\n",
       "      <td>4145662949755970</td>\n",
       "      <td>10/25</td>\n",
       "      <td>VISA 16 digit</td>\n",
       "      <td>2019-01-30</td>\n",
       "    </tr>\n",
       "    <tr>\n",
       "      <th>3</th>\n",
       "      <td>6011887212979720</td>\n",
       "      <td>07/29</td>\n",
       "      <td>Discover</td>\n",
       "      <td>1996-04-05</td>\n",
       "    </tr>\n",
       "    <tr>\n",
       "      <th>4</th>\n",
       "      <td>6011592595426290</td>\n",
       "      <td>05/26</td>\n",
       "      <td>Discover</td>\n",
       "      <td>1993-04-27</td>\n",
       "    </tr>\n",
       "    <tr>\n",
       "      <th>5</th>\n",
       "      <td>213164174481249</td>\n",
       "      <td>08/29</td>\n",
       "      <td>JCB 15 digit</td>\n",
       "      <td>2020-04-22</td>\n",
       "    </tr>\n",
       "    <tr>\n",
       "      <th>6</th>\n",
       "      <td>6521667118670950</td>\n",
       "      <td>01/28</td>\n",
       "      <td>Discover</td>\n",
       "      <td>2008-12-04</td>\n",
       "    </tr>\n",
       "  </tbody>\n",
       "</table>\n",
       "</div>"
      ],
      "text/plain": [
       "        card_number expiry_date  card_provider date_payment_confirmed\n",
       "0  4145662949755970       10/25  VISA 16 digit             2019-01-30\n",
       "3  6011887212979720       07/29       Discover             1996-04-05\n",
       "4  6011592595426290       05/26       Discover             1993-04-27\n",
       "5   213164174481249       08/29   JCB 15 digit             2020-04-22\n",
       "6  6521667118670950       01/28       Discover             2008-12-04"
      ]
     },
     "execution_count": 59,
     "metadata": {},
     "output_type": "execute_result"
    }
   ],
   "source": [
    "pdf_df_final.head()"
   ]
  },
  {
   "cell_type": "code",
   "execution_count": 60,
   "id": "e963dc6d",
   "metadata": {},
   "outputs": [],
   "source": [
    "import requests\n"
   ]
  },
  {
   "cell_type": "code",
   "execution_count": 61,
   "id": "4fb7f0bc",
   "metadata": {},
   "outputs": [],
   "source": [
    "def get_api_response(url, headers_dict):\n",
    "    response = requests.get(url, headers_dict)\n",
    "    return response.json()"
   ]
  },
  {
   "cell_type": "code",
   "execution_count": null,
   "id": "0de99fbd",
   "metadata": {},
   "outputs": [],
   "source": []
  },
  {
   "cell_type": "code",
   "execution_count": 62,
   "id": "10f0efbd",
   "metadata": {},
   "outputs": [
    {
     "data": {
      "text/plain": [
       "451"
      ]
     },
     "execution_count": 62,
     "metadata": {},
     "output_type": "execute_result"
    }
   ],
   "source": [
    "headers_dict = {\n",
    "        \"Content-Type\": \"application/json\", \n",
    "        \"x-api-key\": \"yFBQbwXe9J3sd6zWVAMrK6lcxxr0q1lr2PT6DDMX\"\n",
    "        }\n",
    "response = requests.get(\"https://aqj7u5id95.execute-api.eu-west-1.amazonaws.com/prod/number_stores\", headers=headers_dict)\n",
    "p = response.json()\n",
    "p[\"number_stores\"]\n"
   ]
  },
  {
   "cell_type": "code",
   "execution_count": 110,
   "id": "3a612da0",
   "metadata": {},
   "outputs": [],
   "source": [
    "list_of_dict= []\n",
    "for i in range(451):\n",
    "    uri = f\"https://aqj7u5id95.execute-api.eu-west-1.amazonaws.com/prod/store_details/{i}\"\n",
    "    response = requests.get(uri, headers=headers_dict)\n",
    "    list_of_dict.append(response.json())"
   ]
  },
  {
   "cell_type": "code",
   "execution_count": 96,
   "id": "08112a60",
   "metadata": {},
   "outputs": [],
   "source": [
    "import pandas as pd\n",
    "store_df = pd.DataFrame(list_of_dict)"
   ]
  },
  {
   "cell_type": "code",
   "execution_count": 97,
   "id": "2869ad07",
   "metadata": {},
   "outputs": [
    {
     "data": {
      "text/html": [
       "<div>\n",
       "<style scoped>\n",
       "    .dataframe tbody tr th:only-of-type {\n",
       "        vertical-align: middle;\n",
       "    }\n",
       "\n",
       "    .dataframe tbody tr th {\n",
       "        vertical-align: top;\n",
       "    }\n",
       "\n",
       "    .dataframe thead th {\n",
       "        text-align: right;\n",
       "    }\n",
       "</style>\n",
       "<table border=\"1\" class=\"dataframe\">\n",
       "  <thead>\n",
       "    <tr style=\"text-align: right;\">\n",
       "      <th></th>\n",
       "      <th>index</th>\n",
       "      <th>address</th>\n",
       "      <th>longitude</th>\n",
       "      <th>lat</th>\n",
       "      <th>locality</th>\n",
       "      <th>store_code</th>\n",
       "      <th>staff_numbers</th>\n",
       "      <th>opening_date</th>\n",
       "      <th>store_type</th>\n",
       "      <th>latitude</th>\n",
       "      <th>country_code</th>\n",
       "      <th>continent</th>\n",
       "    </tr>\n",
       "  </thead>\n",
       "  <tbody>\n",
       "    <tr>\n",
       "      <th>0</th>\n",
       "      <td>0</td>\n",
       "      <td>N/A</td>\n",
       "      <td>N/A</td>\n",
       "      <td>N/A</td>\n",
       "      <td>N/A</td>\n",
       "      <td>WEB-1388012W</td>\n",
       "      <td>325</td>\n",
       "      <td>2010-06-12</td>\n",
       "      <td>Web Portal</td>\n",
       "      <td>None</td>\n",
       "      <td>GB</td>\n",
       "      <td>Europe</td>\n",
       "    </tr>\n",
       "    <tr>\n",
       "      <th>1</th>\n",
       "      <td>1</td>\n",
       "      <td>Flat 72W\\nSally isle\\nEast Deantown\\nE7B 8EB, ...</td>\n",
       "      <td>51.62907</td>\n",
       "      <td>None</td>\n",
       "      <td>High Wycombe</td>\n",
       "      <td>HI-9B97EE4E</td>\n",
       "      <td>34</td>\n",
       "      <td>1996-10-25</td>\n",
       "      <td>Local</td>\n",
       "      <td>-0.74934</td>\n",
       "      <td>GB</td>\n",
       "      <td>Europe</td>\n",
       "    </tr>\n",
       "    <tr>\n",
       "      <th>2</th>\n",
       "      <td>2</td>\n",
       "      <td>Heckerstraße 4/5\\n50491 Säckingen, Landshut</td>\n",
       "      <td>48.52961</td>\n",
       "      <td>None</td>\n",
       "      <td>Landshut</td>\n",
       "      <td>LA-0772C7B9</td>\n",
       "      <td>92</td>\n",
       "      <td>2013-04-12</td>\n",
       "      <td>Super Store</td>\n",
       "      <td>12.16179</td>\n",
       "      <td>DE</td>\n",
       "      <td>Europe</td>\n",
       "    </tr>\n",
       "    <tr>\n",
       "      <th>3</th>\n",
       "      <td>3</td>\n",
       "      <td>5 Harrison tunnel\\nSouth Lydia\\nWC9 2BE, Westbury</td>\n",
       "      <td>51.26</td>\n",
       "      <td>None</td>\n",
       "      <td>Westbury</td>\n",
       "      <td>WE-1DE82CEE</td>\n",
       "      <td>69</td>\n",
       "      <td>2014-01-02</td>\n",
       "      <td>Super Store</td>\n",
       "      <td>-2.1875</td>\n",
       "      <td>GB</td>\n",
       "      <td>Europe</td>\n",
       "    </tr>\n",
       "    <tr>\n",
       "      <th>4</th>\n",
       "      <td>4</td>\n",
       "      <td>Studio 6\\nStephen landing\\nSouth Simon\\nB77 2W...</td>\n",
       "      <td>53.0233</td>\n",
       "      <td>None</td>\n",
       "      <td>Belper</td>\n",
       "      <td>BE-18074576</td>\n",
       "      <td>35</td>\n",
       "      <td>2019-09-09</td>\n",
       "      <td>Local</td>\n",
       "      <td>-1.48119</td>\n",
       "      <td>GB</td>\n",
       "      <td>Europe</td>\n",
       "    </tr>\n",
       "  </tbody>\n",
       "</table>\n",
       "</div>"
      ],
      "text/plain": [
       "   index                                            address longitude   lat  \\\n",
       "0      0                                                N/A       N/A   N/A   \n",
       "1      1  Flat 72W\\nSally isle\\nEast Deantown\\nE7B 8EB, ...  51.62907  None   \n",
       "2      2        Heckerstraße 4/5\\n50491 Säckingen, Landshut  48.52961  None   \n",
       "3      3  5 Harrison tunnel\\nSouth Lydia\\nWC9 2BE, Westbury     51.26  None   \n",
       "4      4  Studio 6\\nStephen landing\\nSouth Simon\\nB77 2W...   53.0233  None   \n",
       "\n",
       "       locality    store_code staff_numbers opening_date   store_type  \\\n",
       "0           N/A  WEB-1388012W           325   2010-06-12   Web Portal   \n",
       "1  High Wycombe   HI-9B97EE4E            34   1996-10-25        Local   \n",
       "2      Landshut   LA-0772C7B9            92   2013-04-12  Super Store   \n",
       "3      Westbury   WE-1DE82CEE            69   2014-01-02  Super Store   \n",
       "4        Belper   BE-18074576            35   2019-09-09        Local   \n",
       "\n",
       "   latitude country_code continent  \n",
       "0      None           GB    Europe  \n",
       "1  -0.74934           GB    Europe  \n",
       "2  12.16179           DE    Europe  \n",
       "3   -2.1875           GB    Europe  \n",
       "4  -1.48119           GB    Europe  "
      ]
     },
     "execution_count": 97,
     "metadata": {},
     "output_type": "execute_result"
    }
   ],
   "source": [
    "store_df.head()"
   ]
  },
  {
   "cell_type": "code",
   "execution_count": 109,
   "id": "48d3c9e7",
   "metadata": {},
   "outputs": [
    {
     "data": {
      "text/html": [
       "<div>\n",
       "<style scoped>\n",
       "    .dataframe tbody tr th:only-of-type {\n",
       "        vertical-align: middle;\n",
       "    }\n",
       "\n",
       "    .dataframe tbody tr th {\n",
       "        vertical-align: top;\n",
       "    }\n",
       "\n",
       "    .dataframe thead th {\n",
       "        text-align: right;\n",
       "    }\n",
       "</style>\n",
       "<table border=\"1\" class=\"dataframe\">\n",
       "  <thead>\n",
       "    <tr style=\"text-align: right;\">\n",
       "      <th></th>\n",
       "      <th>index</th>\n",
       "      <th>address</th>\n",
       "      <th>longitude</th>\n",
       "      <th>lat</th>\n",
       "      <th>locality</th>\n",
       "      <th>store_code</th>\n",
       "      <th>staff_numbers</th>\n",
       "      <th>opening_date</th>\n",
       "      <th>store_type</th>\n",
       "      <th>latitude</th>\n",
       "      <th>country_code</th>\n",
       "      <th>continent</th>\n",
       "    </tr>\n",
       "  </thead>\n",
       "  <tbody>\n",
       "    <tr>\n",
       "      <th>0</th>\n",
       "      <td>0</td>\n",
       "      <td>N/A</td>\n",
       "      <td>N/A</td>\n",
       "      <td>N/A</td>\n",
       "      <td>N/A</td>\n",
       "      <td>WEB-1388012W</td>\n",
       "      <td>325</td>\n",
       "      <td>2010-06-12</td>\n",
       "      <td>Web Portal</td>\n",
       "      <td>None</td>\n",
       "      <td>GB</td>\n",
       "      <td>Europe</td>\n",
       "    </tr>\n",
       "  </tbody>\n",
       "</table>\n",
       "</div>"
      ],
      "text/plain": [
       "   index address longitude  lat locality    store_code staff_numbers  \\\n",
       "0      0     N/A       N/A  N/A      N/A  WEB-1388012W           325   \n",
       "\n",
       "  opening_date  store_type latitude country_code continent  \n",
       "0   2010-06-12  Web Portal     None           GB    Europe  "
      ]
     },
     "execution_count": 109,
     "metadata": {},
     "output_type": "execute_result"
    }
   ],
   "source": [
    "store_df[store_df[\"store_code\"].str.contains(\"WEB\")]"
   ]
  },
  {
   "cell_type": "code",
   "execution_count": 66,
   "id": "cb9bda47",
   "metadata": {},
   "outputs": [
    {
     "data": {
      "text/plain": [
       "(451, 12)"
      ]
     },
     "execution_count": 66,
     "metadata": {},
     "output_type": "execute_result"
    }
   ],
   "source": [
    "store_df.shape"
   ]
  },
  {
   "cell_type": "code",
   "execution_count": 67,
   "id": "e7646e94",
   "metadata": {},
   "outputs": [
    {
     "name": "stdout",
     "output_type": "stream",
     "text": [
      "<class 'pandas.core.frame.DataFrame'>\n",
      "RangeIndex: 451 entries, 0 to 450\n",
      "Data columns (total 12 columns):\n",
      " #   Column         Non-Null Count  Dtype \n",
      "---  ------         --------------  ----- \n",
      " 0   index          451 non-null    int64 \n",
      " 1   address        451 non-null    object\n",
      " 2   longitude      451 non-null    object\n",
      " 3   lat            11 non-null     object\n",
      " 4   locality       451 non-null    object\n",
      " 5   store_code     451 non-null    object\n",
      " 6   staff_numbers  451 non-null    object\n",
      " 7   opening_date   451 non-null    object\n",
      " 8   store_type     451 non-null    object\n",
      " 9   latitude       450 non-null    object\n",
      " 10  country_code   451 non-null    object\n",
      " 11  continent      451 non-null    object\n",
      "dtypes: int64(1), object(11)\n",
      "memory usage: 42.4+ KB\n"
     ]
    }
   ],
   "source": [
    "store_df.info()"
   ]
  },
  {
   "cell_type": "code",
   "execution_count": 68,
   "id": "38e169a5",
   "metadata": {},
   "outputs": [],
   "source": [
    "store_df = store_df[~store_df.isin([\"N/A\"]).any(axis=1)]"
   ]
  },
  {
   "cell_type": "code",
   "execution_count": 69,
   "id": "f9fa91d2",
   "metadata": {},
   "outputs": [],
   "source": [
    "store_df = store_df[~store_df.isin([\"NULL\"]).any(axis=1)]"
   ]
  },
  {
   "cell_type": "code",
   "execution_count": 70,
   "id": "0ff9de34",
   "metadata": {},
   "outputs": [
    {
     "data": {
      "text/html": [
       "<div>\n",
       "<style scoped>\n",
       "    .dataframe tbody tr th:only-of-type {\n",
       "        vertical-align: middle;\n",
       "    }\n",
       "\n",
       "    .dataframe tbody tr th {\n",
       "        vertical-align: top;\n",
       "    }\n",
       "\n",
       "    .dataframe thead th {\n",
       "        text-align: right;\n",
       "    }\n",
       "</style>\n",
       "<table border=\"1\" class=\"dataframe\">\n",
       "  <thead>\n",
       "    <tr style=\"text-align: right;\">\n",
       "      <th></th>\n",
       "      <th>index</th>\n",
       "      <th>address</th>\n",
       "      <th>longitude</th>\n",
       "      <th>lat</th>\n",
       "      <th>locality</th>\n",
       "      <th>store_code</th>\n",
       "      <th>staff_numbers</th>\n",
       "      <th>opening_date</th>\n",
       "      <th>store_type</th>\n",
       "      <th>latitude</th>\n",
       "      <th>country_code</th>\n",
       "      <th>continent</th>\n",
       "    </tr>\n",
       "  </thead>\n",
       "  <tbody>\n",
       "    <tr>\n",
       "      <th>1</th>\n",
       "      <td>1</td>\n",
       "      <td>Flat 72W\\nSally isle\\nEast Deantown\\nE7B 8EB, ...</td>\n",
       "      <td>51.62907</td>\n",
       "      <td>None</td>\n",
       "      <td>High Wycombe</td>\n",
       "      <td>HI-9B97EE4E</td>\n",
       "      <td>34</td>\n",
       "      <td>1996-10-25</td>\n",
       "      <td>Local</td>\n",
       "      <td>-0.74934</td>\n",
       "      <td>GB</td>\n",
       "      <td>Europe</td>\n",
       "    </tr>\n",
       "    <tr>\n",
       "      <th>2</th>\n",
       "      <td>2</td>\n",
       "      <td>Heckerstraße 4/5\\n50491 Säckingen, Landshut</td>\n",
       "      <td>48.52961</td>\n",
       "      <td>None</td>\n",
       "      <td>Landshut</td>\n",
       "      <td>LA-0772C7B9</td>\n",
       "      <td>92</td>\n",
       "      <td>2013-04-12</td>\n",
       "      <td>Super Store</td>\n",
       "      <td>12.16179</td>\n",
       "      <td>DE</td>\n",
       "      <td>Europe</td>\n",
       "    </tr>\n",
       "    <tr>\n",
       "      <th>3</th>\n",
       "      <td>3</td>\n",
       "      <td>5 Harrison tunnel\\nSouth Lydia\\nWC9 2BE, Westbury</td>\n",
       "      <td>51.26</td>\n",
       "      <td>None</td>\n",
       "      <td>Westbury</td>\n",
       "      <td>WE-1DE82CEE</td>\n",
       "      <td>69</td>\n",
       "      <td>2014-01-02</td>\n",
       "      <td>Super Store</td>\n",
       "      <td>-2.1875</td>\n",
       "      <td>GB</td>\n",
       "      <td>Europe</td>\n",
       "    </tr>\n",
       "    <tr>\n",
       "      <th>4</th>\n",
       "      <td>4</td>\n",
       "      <td>Studio 6\\nStephen landing\\nSouth Simon\\nB77 2W...</td>\n",
       "      <td>53.0233</td>\n",
       "      <td>None</td>\n",
       "      <td>Belper</td>\n",
       "      <td>BE-18074576</td>\n",
       "      <td>35</td>\n",
       "      <td>2019-09-09</td>\n",
       "      <td>Local</td>\n",
       "      <td>-1.48119</td>\n",
       "      <td>GB</td>\n",
       "      <td>Europe</td>\n",
       "    </tr>\n",
       "    <tr>\n",
       "      <th>5</th>\n",
       "      <td>5</td>\n",
       "      <td>Flat 92u\\nChristian harbors\\nPort Charlotte\\nN...</td>\n",
       "      <td>53.38333</td>\n",
       "      <td>None</td>\n",
       "      <td>Gainsborough</td>\n",
       "      <td>GA-CAD01AC2</td>\n",
       "      <td>36</td>\n",
       "      <td>1995-05-15</td>\n",
       "      <td>Local</td>\n",
       "      <td>-0.76667</td>\n",
       "      <td>GB</td>\n",
       "      <td>Europe</td>\n",
       "    </tr>\n",
       "  </tbody>\n",
       "</table>\n",
       "</div>"
      ],
      "text/plain": [
       "   index                                            address longitude   lat  \\\n",
       "1      1  Flat 72W\\nSally isle\\nEast Deantown\\nE7B 8EB, ...  51.62907  None   \n",
       "2      2        Heckerstraße 4/5\\n50491 Säckingen, Landshut  48.52961  None   \n",
       "3      3  5 Harrison tunnel\\nSouth Lydia\\nWC9 2BE, Westbury     51.26  None   \n",
       "4      4  Studio 6\\nStephen landing\\nSouth Simon\\nB77 2W...   53.0233  None   \n",
       "5      5  Flat 92u\\nChristian harbors\\nPort Charlotte\\nN...  53.38333  None   \n",
       "\n",
       "       locality   store_code staff_numbers opening_date   store_type  \\\n",
       "1  High Wycombe  HI-9B97EE4E            34   1996-10-25        Local   \n",
       "2      Landshut  LA-0772C7B9            92   2013-04-12  Super Store   \n",
       "3      Westbury  WE-1DE82CEE            69   2014-01-02  Super Store   \n",
       "4        Belper  BE-18074576            35   2019-09-09        Local   \n",
       "5  Gainsborough  GA-CAD01AC2            36   1995-05-15        Local   \n",
       "\n",
       "   latitude country_code continent  \n",
       "1  -0.74934           GB    Europe  \n",
       "2  12.16179           DE    Europe  \n",
       "3   -2.1875           GB    Europe  \n",
       "4  -1.48119           GB    Europe  \n",
       "5  -0.76667           GB    Europe  "
      ]
     },
     "execution_count": 70,
     "metadata": {},
     "output_type": "execute_result"
    }
   ],
   "source": [
    "store_df.head()"
   ]
  },
  {
   "cell_type": "code",
   "execution_count": 71,
   "id": "2828e89e",
   "metadata": {},
   "outputs": [],
   "source": [
    "store_df.drop([\"lat\"], inplace=True, axis=1)"
   ]
  },
  {
   "cell_type": "code",
   "execution_count": 72,
   "id": "4b814831",
   "metadata": {},
   "outputs": [
    {
     "data": {
      "text/plain": [
       "(447, 11)"
      ]
     },
     "execution_count": 72,
     "metadata": {},
     "output_type": "execute_result"
    }
   ],
   "source": [
    "store_df.shape"
   ]
  },
  {
   "cell_type": "code",
   "execution_count": 73,
   "id": "b34e6417",
   "metadata": {},
   "outputs": [
    {
     "data": {
      "text/plain": [
       "GB            265\n",
       "DE            141\n",
       "US             34\n",
       "YELVM536YT      1\n",
       "FP8DLXQVGH      1\n",
       "HMHIFNLOBN      1\n",
       "F3AO8V2LHU      1\n",
       "OH20I92LX3      1\n",
       "OYVW925ZL8      1\n",
       "B3EH2ZGQAV      1\n",
       "Name: country_code, dtype: int64"
      ]
     },
     "execution_count": 73,
     "metadata": {},
     "output_type": "execute_result"
    }
   ],
   "source": [
    "store_df[\"country_code\"].value_counts()"
   ]
  },
  {
   "cell_type": "code",
   "execution_count": 74,
   "id": "5d3cdccb",
   "metadata": {},
   "outputs": [],
   "source": [
    "store_df = store_df[~(store_df[\"country_code\"].str.contains(r'[0-9]'))]\n"
   ]
  },
  {
   "cell_type": "code",
   "execution_count": 75,
   "id": "4cdc04f5",
   "metadata": {},
   "outputs": [],
   "source": [
    "store_df = store_df[~(store_df[\"country_code\"].str.len() > 2)]"
   ]
  },
  {
   "cell_type": "code",
   "execution_count": 76,
   "id": "c75602b1",
   "metadata": {},
   "outputs": [
    {
     "data": {
      "text/plain": [
       "Local          255\n",
       "Super Store     89\n",
       "Mall Kiosk      51\n",
       "Outlet          45\n",
       "Name: store_type, dtype: int64"
      ]
     },
     "execution_count": 76,
     "metadata": {},
     "output_type": "execute_result"
    }
   ],
   "source": [
    "store_df[\"store_type\"].value_counts()"
   ]
  },
  {
   "cell_type": "code",
   "execution_count": 77,
   "id": "b1b380fd",
   "metadata": {},
   "outputs": [
    {
     "data": {
      "text/plain": [
       "array(['Europe', 'America', 'eeEurope', 'eeAmerica'], dtype=object)"
      ]
     },
     "execution_count": 77,
     "metadata": {},
     "output_type": "execute_result"
    }
   ],
   "source": [
    "store_df[\"continent\"].unique()"
   ]
  },
  {
   "cell_type": "code",
   "execution_count": 78,
   "id": "37d31b2b",
   "metadata": {},
   "outputs": [],
   "source": [
    "store_df['continent'] = store_df['continent'].str.replace('ee', '')\n"
   ]
  },
  {
   "cell_type": "code",
   "execution_count": 79,
   "id": "5e7693a8",
   "metadata": {},
   "outputs": [
    {
     "data": {
      "text/plain": [
       "Europe     406\n",
       "America     34\n",
       "Name: continent, dtype: int64"
      ]
     },
     "execution_count": 79,
     "metadata": {},
     "output_type": "execute_result"
    }
   ],
   "source": [
    "store_df[\"continent\"].value_counts()    "
   ]
  },
  {
   "cell_type": "code",
   "execution_count": 80,
   "id": "a8dd7576",
   "metadata": {},
   "outputs": [
    {
     "data": {
      "text/plain": [
       "HI-9B97EE4E    1\n",
       "BR-CACF7508    1\n",
       "GA-D570038A    1\n",
       "CH-7638016B    1\n",
       "GI-718674C0    1\n",
       "              ..\n",
       "SU-5F78B30A    1\n",
       "CL-DA5365DF    1\n",
       "ME-9940FF73    1\n",
       "BU-5B54171E    1\n",
       "BA-B4AED588    1\n",
       "Name: store_code, Length: 440, dtype: int64"
      ]
     },
     "execution_count": 80,
     "metadata": {},
     "output_type": "execute_result"
    }
   ],
   "source": [
    "store_df[\"store_code\"].value_counts()"
   ]
  },
  {
   "cell_type": "code",
   "execution_count": 81,
   "id": "0fcf9615",
   "metadata": {},
   "outputs": [
    {
     "name": "stdout",
     "output_type": "stream",
     "text": [
      "time data \"October 2012 08\" at position 9 doesn't match format specified\n"
     ]
    }
   ],
   "source": [
    "try:\n",
    "    pd.to_datetime(store_df['opening_date'], format='%Y-%m-%d', errors=\"raise\")\n",
    "except ValueError as e:\n",
    "    print(e)"
   ]
  },
  {
   "cell_type": "code",
   "execution_count": 82,
   "id": "00696d50",
   "metadata": {},
   "outputs": [
    {
     "data": {
      "text/plain": [
       "array(['High Wycombe', 'Landshut', 'Westbury', 'Belper', 'Gainsborough',\n",
       "       'Rutherglen', 'Stuttgart', 'Kaukauna', 'Hartley', 'Siegburg',\n",
       "       'Devizes', 'Crystal Lake', 'Halstenbek', 'Lancing', 'Newbury',\n",
       "       'Lymington', 'Chapletown', 'Barnet', 'East Dereham',\n",
       "       'Poulton-le-Fylde', 'Bushey', 'Ehingen', 'Aberdeen', 'Surbiton',\n",
       "       'Inverness', 'Weimar', 'Penzance', 'Albstadt', 'Hechingen',\n",
       "       'Mexborough', 'Arbroath', 'Cowes', 'Clacton-on-Sea', 'Boston',\n",
       "       'Charlottenburg-Nord', 'Bretten', 'Sun City Center', 'Karben',\n",
       "       'Martinsburg', 'Oschatz', 'Kingston upon Hull', 'Leyland',\n",
       "       'Venice', 'Schleswig', 'Eppingen', 'Losheim', 'Burscheid',\n",
       "       'Southsea', 'Porterville', 'Walsrode', 'Exeter', 'Thetford',\n",
       "       'Morningside Heights', 'Searcy', 'Radevormwald', 'Stade',\n",
       "       'Mira Mesa', 'Strood', 'Verl', 'Wesseling', 'Pfullingen',\n",
       "       'Bensheim', 'Walton-on-the-Naze', 'Friedberg', 'Winsford',\n",
       "       'Newburgh', 'Selby', 'Oberhausen', 'Zeitz', 'Viewpark',\n",
       "       'Rhosllanerchrugog', 'Marburg an der Lahn', 'Waverly', 'Memmingen',\n",
       "       'Trossingen', 'Dahlem', 'Lower Earley', 'Barmbek-Nord',\n",
       "       'Bad Segeberg', 'Great Wyrley', 'Nidderau', 'Jersey City',\n",
       "       'Fayetteville', 'Gauting', 'Blackpool', 'Redding',\n",
       "       'Hofheim am Taunus', 'Wittenau', 'Aschaffenburg',\n",
       "       'Fairview Heights', 'Sicklerville', 'Brierley Hill',\n",
       "       'Kirchlengern', 'Port Richmond', 'Belle Glade', 'Reutlingen',\n",
       "       'Brunswick', 'Gronau', 'Gifhorn', 'Carlsbad', 'Lutz', 'Sterling',\n",
       "       'Korschenbroich', 'Hutchinson', 'Scarsdale', 'Iron River',\n",
       "       'Jackson', 'Bridgeport', 'Rudolstadt', 'Hermsdorf',\n",
       "       'Neuburg an der Donau', 'Bad Honnef', 'Scottsdale', 'Troutdale',\n",
       "       'Columbia Heights', 'Westchester'], dtype=object)"
      ]
     },
     "execution_count": 82,
     "metadata": {},
     "output_type": "execute_result"
    }
   ],
   "source": [
    "store_df[\"locality\"].unique()"
   ]
  },
  {
   "cell_type": "code",
   "execution_count": 83,
   "id": "efbe959c",
   "metadata": {},
   "outputs": [],
   "source": [
    "from mrdc import database_utils\n",
    "import os"
   ]
  },
  {
   "cell_type": "code",
   "execution_count": 84,
   "id": "1b464d3a",
   "metadata": {},
   "outputs": [],
   "source": [
    "base_path = os.getcwd()\n"
   ]
  },
  {
   "cell_type": "code",
   "execution_count": 85,
   "id": "c5b51e46",
   "metadata": {},
   "outputs": [],
   "source": [
    "aws_data_connector = database_utils.DatabaseConnector(base_path=base_path, cred_file=\"db_creds.yaml\")\n"
   ]
  },
  {
   "cell_type": "code",
   "execution_count": 86,
   "id": "cb126ea2",
   "metadata": {},
   "outputs": [
    {
     "name": "stdout",
     "output_type": "stream",
     "text": [
      "legacy_store_details\n",
      "legacy_users\n",
      "orders_table\n"
     ]
    }
   ],
   "source": [
    "all_tables = aws_data_connector.list_db_table()\n",
    "for table in all_tables:\n",
    "    print(table)"
   ]
  },
  {
   "cell_type": "code",
   "execution_count": 122,
   "id": "2d91bcd3",
   "metadata": {},
   "outputs": [],
   "source": [
    "order_df = data_extractor.read_rds_table(data_connector, table_name=\"orders_table\")\n"
   ]
  },
  {
   "cell_type": "code",
   "execution_count": 123,
   "id": "256beefc",
   "metadata": {},
   "outputs": [
    {
     "data": {
      "text/html": [
       "<div>\n",
       "<style scoped>\n",
       "    .dataframe tbody tr th:only-of-type {\n",
       "        vertical-align: middle;\n",
       "    }\n",
       "\n",
       "    .dataframe tbody tr th {\n",
       "        vertical-align: top;\n",
       "    }\n",
       "\n",
       "    .dataframe thead th {\n",
       "        text-align: right;\n",
       "    }\n",
       "</style>\n",
       "<table border=\"1\" class=\"dataframe\">\n",
       "  <thead>\n",
       "    <tr style=\"text-align: right;\">\n",
       "      <th></th>\n",
       "      <th>level_0</th>\n",
       "      <th>index</th>\n",
       "      <th>date_uuid</th>\n",
       "      <th>first_name</th>\n",
       "      <th>last_name</th>\n",
       "      <th>user_uuid</th>\n",
       "      <th>card_number</th>\n",
       "      <th>store_code</th>\n",
       "      <th>product_code</th>\n",
       "      <th>1</th>\n",
       "      <th>product_quantity</th>\n",
       "    </tr>\n",
       "  </thead>\n",
       "  <tbody>\n",
       "    <tr>\n",
       "      <th>0</th>\n",
       "      <td>0</td>\n",
       "      <td>0</td>\n",
       "      <td>9476f17e-5d6a-4117-874d-9cdb38ca1fa6</td>\n",
       "      <td>None</td>\n",
       "      <td>None</td>\n",
       "      <td>93caf182-e4e9-4c6e-bebb-60a1a9dcf9b8</td>\n",
       "      <td>30060773296197</td>\n",
       "      <td>BL-8387506C</td>\n",
       "      <td>R7-3126933h</td>\n",
       "      <td>NaN</td>\n",
       "      <td>3</td>\n",
       "    </tr>\n",
       "    <tr>\n",
       "      <th>1</th>\n",
       "      <td>1</td>\n",
       "      <td>1</td>\n",
       "      <td>0423a395-a04d-4e4a-bd0f-d237cbd5a295</td>\n",
       "      <td>None</td>\n",
       "      <td>None</td>\n",
       "      <td>8fe96c3a-d62d-4eb5-b313-cf12d9126a49</td>\n",
       "      <td>349624180933183</td>\n",
       "      <td>WEB-1388012W</td>\n",
       "      <td>C2-7287916l</td>\n",
       "      <td>NaN</td>\n",
       "      <td>2</td>\n",
       "    </tr>\n",
       "    <tr>\n",
       "      <th>2</th>\n",
       "      <td>2</td>\n",
       "      <td>2</td>\n",
       "      <td>65187294-bb16-4519-adc0-787bbe423970</td>\n",
       "      <td>None</td>\n",
       "      <td>None</td>\n",
       "      <td>fc461df4-b919-48b2-909e-55c95a03fe6b</td>\n",
       "      <td>3529023891650490</td>\n",
       "      <td>CH-01D85C8D</td>\n",
       "      <td>S7-1175877v</td>\n",
       "      <td>NaN</td>\n",
       "      <td>2</td>\n",
       "    </tr>\n",
       "    <tr>\n",
       "      <th>3</th>\n",
       "      <td>3</td>\n",
       "      <td>3</td>\n",
       "      <td>579e21f7-13cb-436b-83ad-33687a4eb337</td>\n",
       "      <td>None</td>\n",
       "      <td>None</td>\n",
       "      <td>6104719f-ef14-4b09-bf04-fb0c4620acb0</td>\n",
       "      <td>213142929492281</td>\n",
       "      <td>CL-C183BE4B</td>\n",
       "      <td>D8-8421505n</td>\n",
       "      <td>NaN</td>\n",
       "      <td>2</td>\n",
       "    </tr>\n",
       "    <tr>\n",
       "      <th>4</th>\n",
       "      <td>4</td>\n",
       "      <td>4</td>\n",
       "      <td>00ab86c3-2039-4674-b9c1-adbcbbf525bd</td>\n",
       "      <td>None</td>\n",
       "      <td>None</td>\n",
       "      <td>9523a6d3-b2dd-4670-a51a-36aebc89f579</td>\n",
       "      <td>502067329974</td>\n",
       "      <td>SO-B5B9CB3B</td>\n",
       "      <td>B6-2596063a</td>\n",
       "      <td>NaN</td>\n",
       "      <td>2</td>\n",
       "    </tr>\n",
       "  </tbody>\n",
       "</table>\n",
       "</div>"
      ],
      "text/plain": [
       "   level_0  index                             date_uuid first_name last_name  \\\n",
       "0        0      0  9476f17e-5d6a-4117-874d-9cdb38ca1fa6       None      None   \n",
       "1        1      1  0423a395-a04d-4e4a-bd0f-d237cbd5a295       None      None   \n",
       "2        2      2  65187294-bb16-4519-adc0-787bbe423970       None      None   \n",
       "3        3      3  579e21f7-13cb-436b-83ad-33687a4eb337       None      None   \n",
       "4        4      4  00ab86c3-2039-4674-b9c1-adbcbbf525bd       None      None   \n",
       "\n",
       "                              user_uuid       card_number    store_code  \\\n",
       "0  93caf182-e4e9-4c6e-bebb-60a1a9dcf9b8    30060773296197   BL-8387506C   \n",
       "1  8fe96c3a-d62d-4eb5-b313-cf12d9126a49   349624180933183  WEB-1388012W   \n",
       "2  fc461df4-b919-48b2-909e-55c95a03fe6b  3529023891650490   CH-01D85C8D   \n",
       "3  6104719f-ef14-4b09-bf04-fb0c4620acb0   213142929492281   CL-C183BE4B   \n",
       "4  9523a6d3-b2dd-4670-a51a-36aebc89f579      502067329974   SO-B5B9CB3B   \n",
       "\n",
       "  product_code   1  product_quantity  \n",
       "0  R7-3126933h NaN                 3  \n",
       "1  C2-7287916l NaN                 2  \n",
       "2  S7-1175877v NaN                 2  \n",
       "3  D8-8421505n NaN                 2  \n",
       "4  B6-2596063a NaN                 2  "
      ]
     },
     "execution_count": 123,
     "metadata": {},
     "output_type": "execute_result"
    }
   ],
   "source": [
    "order_df.head()"
   ]
  },
  {
   "cell_type": "code",
   "execution_count": 124,
   "id": "95532625",
   "metadata": {},
   "outputs": [
    {
     "data": {
      "text/plain": [
       "(120123, 11)"
      ]
     },
     "execution_count": 124,
     "metadata": {},
     "output_type": "execute_result"
    }
   ],
   "source": [
    "order_df.shape"
   ]
  },
  {
   "cell_type": "code",
   "execution_count": 125,
   "id": "02b8a074",
   "metadata": {},
   "outputs": [],
   "source": [
    "order_df = order_df[~order_df.isin([\"N/A\"]).any(axis=1)]"
   ]
  },
  {
   "cell_type": "code",
   "execution_count": 108,
   "id": "b574638d",
   "metadata": {},
   "outputs": [
    {
     "data": {
      "text/html": [
       "<div>\n",
       "<style scoped>\n",
       "    .dataframe tbody tr th:only-of-type {\n",
       "        vertical-align: middle;\n",
       "    }\n",
       "\n",
       "    .dataframe tbody tr th {\n",
       "        vertical-align: top;\n",
       "    }\n",
       "\n",
       "    .dataframe thead th {\n",
       "        text-align: right;\n",
       "    }\n",
       "</style>\n",
       "<table border=\"1\" class=\"dataframe\">\n",
       "  <thead>\n",
       "    <tr style=\"text-align: right;\">\n",
       "      <th></th>\n",
       "      <th>level_0</th>\n",
       "      <th>index</th>\n",
       "      <th>date_uuid</th>\n",
       "      <th>first_name</th>\n",
       "      <th>last_name</th>\n",
       "      <th>user_uuid</th>\n",
       "      <th>card_number</th>\n",
       "      <th>store_code</th>\n",
       "      <th>product_code</th>\n",
       "      <th>1</th>\n",
       "      <th>product_quantity</th>\n",
       "    </tr>\n",
       "  </thead>\n",
       "  <tbody>\n",
       "    <tr>\n",
       "      <th>1</th>\n",
       "      <td>1</td>\n",
       "      <td>1</td>\n",
       "      <td>0423a395-a04d-4e4a-bd0f-d237cbd5a295</td>\n",
       "      <td>None</td>\n",
       "      <td>None</td>\n",
       "      <td>8fe96c3a-d62d-4eb5-b313-cf12d9126a49</td>\n",
       "      <td>349624180933183</td>\n",
       "      <td>WEB-1388012W</td>\n",
       "      <td>C2-7287916l</td>\n",
       "      <td>NaN</td>\n",
       "      <td>2</td>\n",
       "    </tr>\n",
       "    <tr>\n",
       "      <th>5</th>\n",
       "      <td>5</td>\n",
       "      <td>5</td>\n",
       "      <td>c3a1df8f-6918-4795-9f8a-6869b2cda9cf</td>\n",
       "      <td>Brett</td>\n",
       "      <td>Welch</td>\n",
       "      <td>53d21f46-1fa4-452f-a023-26aee2aae4d6</td>\n",
       "      <td>3506661913512980</td>\n",
       "      <td>WEB-1388012W</td>\n",
       "      <td>g3-7974400s</td>\n",
       "      <td>NaN</td>\n",
       "      <td>2</td>\n",
       "    </tr>\n",
       "    <tr>\n",
       "      <th>8</th>\n",
       "      <td>8</td>\n",
       "      <td>8</td>\n",
       "      <td>38ebd7b6-b1d4-462e-bfd7-265e3674ef3f</td>\n",
       "      <td>Marion</td>\n",
       "      <td>Stokes</td>\n",
       "      <td>02de2416-4baf-42ad-bae6-d716eca0fc3f</td>\n",
       "      <td>6011037917693140</td>\n",
       "      <td>WEB-1388012W</td>\n",
       "      <td>i4-2651057I</td>\n",
       "      <td>NaN</td>\n",
       "      <td>5</td>\n",
       "    </tr>\n",
       "    <tr>\n",
       "      <th>11</th>\n",
       "      <td>11</td>\n",
       "      <td>11</td>\n",
       "      <td>2e78a288-31c6-4a2a-8aea-cb93ad389aaa</td>\n",
       "      <td>Kreszentia</td>\n",
       "      <td>Hornich</td>\n",
       "      <td>bf86d13b-882b-485e-addd-0c4e9a39a96c</td>\n",
       "      <td>6502495513721380</td>\n",
       "      <td>WEB-1388012W</td>\n",
       "      <td>S6-3678717g</td>\n",
       "      <td>NaN</td>\n",
       "      <td>1</td>\n",
       "    </tr>\n",
       "    <tr>\n",
       "      <th>12</th>\n",
       "      <td>12</td>\n",
       "      <td>12</td>\n",
       "      <td>0e1e7e2b-ba00-4c47-9daf-d8f527086f76</td>\n",
       "      <td>None</td>\n",
       "      <td>None</td>\n",
       "      <td>52717e6a-955c-4c16-8f25-9e6a71ba3f60</td>\n",
       "      <td>3551071736826240</td>\n",
       "      <td>WEB-1388012W</td>\n",
       "      <td>Z2-0851042W</td>\n",
       "      <td>NaN</td>\n",
       "      <td>8</td>\n",
       "    </tr>\n",
       "    <tr>\n",
       "      <th>...</th>\n",
       "      <td>...</td>\n",
       "      <td>...</td>\n",
       "      <td>...</td>\n",
       "      <td>...</td>\n",
       "      <td>...</td>\n",
       "      <td>...</td>\n",
       "      <td>...</td>\n",
       "      <td>...</td>\n",
       "      <td>...</td>\n",
       "      <td>...</td>\n",
       "      <td>...</td>\n",
       "    </tr>\n",
       "    <tr>\n",
       "      <th>120106</th>\n",
       "      <td>53055</td>\n",
       "      <td>53054</td>\n",
       "      <td>826fcd34-2886-493b-9f05-071c0c73bb8c</td>\n",
       "      <td>Lee</td>\n",
       "      <td>Thomas</td>\n",
       "      <td>a2ddc7d8-3434-4a3d-920f-17befdee38a3</td>\n",
       "      <td>4971858637664481</td>\n",
       "      <td>WEB-1388012W</td>\n",
       "      <td>V2-1615331d</td>\n",
       "      <td>NaN</td>\n",
       "      <td>4</td>\n",
       "    </tr>\n",
       "    <tr>\n",
       "      <th>120107</th>\n",
       "      <td>59862</td>\n",
       "      <td>59862</td>\n",
       "      <td>2e38823a-fbcb-4fc5-94bf-8457417c1d20</td>\n",
       "      <td>None</td>\n",
       "      <td>None</td>\n",
       "      <td>d48a254d-dd98-471e-a506-622f30774009</td>\n",
       "      <td>4971858637664481</td>\n",
       "      <td>WEB-1388012W</td>\n",
       "      <td>x6-9994287R</td>\n",
       "      <td>NaN</td>\n",
       "      <td>4</td>\n",
       "    </tr>\n",
       "    <tr>\n",
       "      <th>120110</th>\n",
       "      <td>77538</td>\n",
       "      <td>77538</td>\n",
       "      <td>1f049481-3fa2-498b-8a60-66b60a71d376</td>\n",
       "      <td>Friedemann</td>\n",
       "      <td>Jüttner</td>\n",
       "      <td>2e5d948f-3a52-42c5-ab33-3a162208915b</td>\n",
       "      <td>4971858637664481</td>\n",
       "      <td>WEB-1388012W</td>\n",
       "      <td>o6-5976806E</td>\n",
       "      <td>NaN</td>\n",
       "      <td>2</td>\n",
       "    </tr>\n",
       "    <tr>\n",
       "      <th>120114</th>\n",
       "      <td>81466</td>\n",
       "      <td>81466</td>\n",
       "      <td>9e4b398e-c733-41d8-b28e-95550b0f1e41</td>\n",
       "      <td>None</td>\n",
       "      <td>None</td>\n",
       "      <td>61aece9d-de6d-442f-a30b-fb4c63559202</td>\n",
       "      <td>575421945446</td>\n",
       "      <td>WEB-1388012W</td>\n",
       "      <td>r3-37753L</td>\n",
       "      <td>NaN</td>\n",
       "      <td>3</td>\n",
       "    </tr>\n",
       "    <tr>\n",
       "      <th>120120</th>\n",
       "      <td>97599</td>\n",
       "      <td>97599</td>\n",
       "      <td>58598aca-049c-418e-8e39-46327634a7f1</td>\n",
       "      <td>Sharon</td>\n",
       "      <td>Miller</td>\n",
       "      <td>48b7f1fc-db13-4611-ad8e-3dac0b759488</td>\n",
       "      <td>4971858637664481</td>\n",
       "      <td>WEB-1388012W</td>\n",
       "      <td>A4-5443400b</td>\n",
       "      <td>NaN</td>\n",
       "      <td>4</td>\n",
       "    </tr>\n",
       "  </tbody>\n",
       "</table>\n",
       "<p>26957 rows × 11 columns</p>\n",
       "</div>"
      ],
      "text/plain": [
       "        level_0  index                             date_uuid  first_name  \\\n",
       "1             1      1  0423a395-a04d-4e4a-bd0f-d237cbd5a295        None   \n",
       "5             5      5  c3a1df8f-6918-4795-9f8a-6869b2cda9cf       Brett   \n",
       "8             8      8  38ebd7b6-b1d4-462e-bfd7-265e3674ef3f      Marion   \n",
       "11           11     11  2e78a288-31c6-4a2a-8aea-cb93ad389aaa  Kreszentia   \n",
       "12           12     12  0e1e7e2b-ba00-4c47-9daf-d8f527086f76        None   \n",
       "...         ...    ...                                   ...         ...   \n",
       "120106    53055  53054  826fcd34-2886-493b-9f05-071c0c73bb8c         Lee   \n",
       "120107    59862  59862  2e38823a-fbcb-4fc5-94bf-8457417c1d20        None   \n",
       "120110    77538  77538  1f049481-3fa2-498b-8a60-66b60a71d376  Friedemann   \n",
       "120114    81466  81466  9e4b398e-c733-41d8-b28e-95550b0f1e41        None   \n",
       "120120    97599  97599  58598aca-049c-418e-8e39-46327634a7f1      Sharon   \n",
       "\n",
       "       last_name                             user_uuid       card_number  \\\n",
       "1           None  8fe96c3a-d62d-4eb5-b313-cf12d9126a49   349624180933183   \n",
       "5          Welch  53d21f46-1fa4-452f-a023-26aee2aae4d6  3506661913512980   \n",
       "8         Stokes  02de2416-4baf-42ad-bae6-d716eca0fc3f  6011037917693140   \n",
       "11       Hornich  bf86d13b-882b-485e-addd-0c4e9a39a96c  6502495513721380   \n",
       "12          None  52717e6a-955c-4c16-8f25-9e6a71ba3f60  3551071736826240   \n",
       "...          ...                                   ...               ...   \n",
       "120106    Thomas  a2ddc7d8-3434-4a3d-920f-17befdee38a3  4971858637664481   \n",
       "120107      None  d48a254d-dd98-471e-a506-622f30774009  4971858637664481   \n",
       "120110   Jüttner  2e5d948f-3a52-42c5-ab33-3a162208915b  4971858637664481   \n",
       "120114      None  61aece9d-de6d-442f-a30b-fb4c63559202      575421945446   \n",
       "120120    Miller  48b7f1fc-db13-4611-ad8e-3dac0b759488  4971858637664481   \n",
       "\n",
       "          store_code product_code   1  product_quantity  \n",
       "1       WEB-1388012W  C2-7287916l NaN                 2  \n",
       "5       WEB-1388012W  g3-7974400s NaN                 2  \n",
       "8       WEB-1388012W  i4-2651057I NaN                 5  \n",
       "11      WEB-1388012W  S6-3678717g NaN                 1  \n",
       "12      WEB-1388012W  Z2-0851042W NaN                 8  \n",
       "...              ...          ...  ..               ...  \n",
       "120106  WEB-1388012W  V2-1615331d NaN                 4  \n",
       "120107  WEB-1388012W  x6-9994287R NaN                 4  \n",
       "120110  WEB-1388012W  o6-5976806E NaN                 2  \n",
       "120114  WEB-1388012W    r3-37753L NaN                 3  \n",
       "120120  WEB-1388012W  A4-5443400b NaN                 4  \n",
       "\n",
       "[26957 rows x 11 columns]"
      ]
     },
     "execution_count": 108,
     "metadata": {},
     "output_type": "execute_result"
    }
   ],
   "source": [
    "order_df[order_df[\"store_code\"].str.contains('WEB')]"
   ]
  },
  {
   "cell_type": "code",
   "execution_count": 126,
   "id": "275fab2b",
   "metadata": {},
   "outputs": [
    {
     "data": {
      "text/plain": [
       "(120123, 11)"
      ]
     },
     "execution_count": 126,
     "metadata": {},
     "output_type": "execute_result"
    }
   ],
   "source": [
    "order_df.shape"
   ]
  },
  {
   "cell_type": "code",
   "execution_count": 179,
   "id": "e7e7a18b",
   "metadata": {},
   "outputs": [],
   "source": [
    "import boto3"
   ]
  },
  {
   "cell_type": "code",
   "execution_count": 180,
   "id": "c72afe40",
   "metadata": {},
   "outputs": [],
   "source": [
    "s3 = boto3.client('s3')"
   ]
  },
  {
   "cell_type": "code",
   "execution_count": 181,
   "id": "a9ce4f6e",
   "metadata": {},
   "outputs": [],
   "source": [
    "df = pd.read_csv('s3://data-handling-public/products.csv')"
   ]
  },
  {
   "cell_type": "code",
   "execution_count": 182,
   "id": "79523deb",
   "metadata": {},
   "outputs": [
    {
     "data": {
      "text/html": [
       "<div>\n",
       "<style scoped>\n",
       "    .dataframe tbody tr th:only-of-type {\n",
       "        vertical-align: middle;\n",
       "    }\n",
       "\n",
       "    .dataframe tbody tr th {\n",
       "        vertical-align: top;\n",
       "    }\n",
       "\n",
       "    .dataframe thead th {\n",
       "        text-align: right;\n",
       "    }\n",
       "</style>\n",
       "<table border=\"1\" class=\"dataframe\">\n",
       "  <thead>\n",
       "    <tr style=\"text-align: right;\">\n",
       "      <th></th>\n",
       "      <th>Unnamed: 0</th>\n",
       "      <th>product_name</th>\n",
       "      <th>product_price</th>\n",
       "      <th>weight</th>\n",
       "      <th>category</th>\n",
       "      <th>EAN</th>\n",
       "      <th>date_added</th>\n",
       "      <th>uuid</th>\n",
       "      <th>removed</th>\n",
       "      <th>product_code</th>\n",
       "    </tr>\n",
       "  </thead>\n",
       "  <tbody>\n",
       "    <tr>\n",
       "      <th>0</th>\n",
       "      <td>0</td>\n",
       "      <td>FurReal Dazzlin' Dimples My Playful Dolphin</td>\n",
       "      <td>£39.99</td>\n",
       "      <td>1.6kg</td>\n",
       "      <td>toys-and-games</td>\n",
       "      <td>7425710935115</td>\n",
       "      <td>2005-12-02</td>\n",
       "      <td>83dc0a69-f96f-4c34-bcb7-928acae19a94</td>\n",
       "      <td>Still_avaliable</td>\n",
       "      <td>R7-3126933h</td>\n",
       "    </tr>\n",
       "  </tbody>\n",
       "</table>\n",
       "</div>"
      ],
      "text/plain": [
       "   Unnamed: 0                                 product_name product_price  \\\n",
       "0           0  FurReal Dazzlin' Dimples My Playful Dolphin        £39.99   \n",
       "\n",
       "  weight        category            EAN  date_added  \\\n",
       "0  1.6kg  toys-and-games  7425710935115  2005-12-02   \n",
       "\n",
       "                                   uuid          removed product_code  \n",
       "0  83dc0a69-f96f-4c34-bcb7-928acae19a94  Still_avaliable  R7-3126933h  "
      ]
     },
     "execution_count": 182,
     "metadata": {},
     "output_type": "execute_result"
    }
   ],
   "source": [
    "df.head(1)"
   ]
  },
  {
   "cell_type": "code",
   "execution_count": 183,
   "id": "3e3a6403",
   "metadata": {},
   "outputs": [
    {
     "data": {
      "text/plain": [
       "(1853, 10)"
      ]
     },
     "execution_count": 183,
     "metadata": {},
     "output_type": "execute_result"
    }
   ],
   "source": [
    "df.shape"
   ]
  },
  {
   "cell_type": "code",
   "execution_count": 136,
   "id": "9e494d86",
   "metadata": {},
   "outputs": [],
   "source": [
    "df.dropna(inplace=True)"
   ]
  },
  {
   "cell_type": "code",
   "execution_count": 137,
   "id": "726a626f",
   "metadata": {},
   "outputs": [
    {
     "data": {
      "text/plain": [
       "(1849, 10)"
      ]
     },
     "execution_count": 137,
     "metadata": {},
     "output_type": "execute_result"
    }
   ],
   "source": [
    "df.shape"
   ]
  },
  {
   "cell_type": "code",
   "execution_count": 145,
   "id": "c64f76ed",
   "metadata": {},
   "outputs": [],
   "source": [
    "import numpy as np"
   ]
  },
  {
   "cell_type": "code",
   "execution_count": 132,
   "id": "9c5580bb",
   "metadata": {},
   "outputs": [
    {
     "data": {
      "text/plain": [
       "array(['1.6kg', '0.48kg', '590g', '540g', '1.91kg', '0.91kg', '0.46kg',\n",
       "       '0.38kg', '8.981kg', '1.478kg', '1.2g', '0.66kg', '1.8kg', '1.9kg',\n",
       "       '1.725kg', '0.54kg', '0.322kg', '0.71kg', '0.88kg', '0.67kg',\n",
       "       '11.076kg', '4kg', '0.385kg', '1.38kg', '2.57kg', '1.35kg',\n",
       "       '0.695kg', '1.15kg', '0.98kg', '1.447kg', '1.3625kg', '2.25kg',\n",
       "       '0.79kg', '0.8kg', '1.08kg', '2.476kg', '0.137kg', '11.5kg',\n",
       "       '0.44kg', '2.75kg', '0.911kg', '0.33kg', '1kg', '0.5kg', '0.45kg',\n",
       "       '0.7kg', '0.41kg', '1.3kg', '2kg', '0.34kg', '0.37kg', '0.76kg',\n",
       "       '1.18kg', '0.685kg', '1.59kg', '1.4kg', '1.66kg', '13.5kg',\n",
       "       '0.745kg', '1.44kg', '0.74kg', '0.660kg', '0.419kg', '0.418kg',\n",
       "       '0.470kg', '0.353kg', '0.350kg', '0.96kg', '1.20kg', '1.21kg',\n",
       "       '1.02kg', '0.365kg', '0.677kg', '0.55kg', '0.43kg', '0.11kg',\n",
       "       '1.23kg', '1.03kg', '0.87kg', '0.39kg', '0.35kg', '0.42kg',\n",
       "       '0.27kg', '726g', '0.61kg', '0.864kg', '0.667kg', '0.63kg',\n",
       "       '0.72kg', '0.58kg', '0.627kg', '0.3kg', '0.32kg', '0.01kg',\n",
       "       '0.650kg', '0.68kg', '0.36kg', '1.395kg', '0.9kg', '0.468kg',\n",
       "       '0.687kg', '0.955kg', '0.700kg', '0.900kg', '0.06kg', '0.967kg',\n",
       "       '0.03kg', '1.041kg', '0.6kg', '0.65kg', '0.59kg', '0.639kg',\n",
       "       '0.649kg', '0.354kg', '1.25kg', '0.16kg', '0.258kg', '0.313kg',\n",
       "       '0.08kg', '420g', '1.68kg', '0.718kg', '0.92kg', '0.072kg',\n",
       "       '1.7kg', '3kg', '1.2kg', '1.505kg', '1.49kg', '0.492kg', '3.3kg',\n",
       "       '3.17kg', '2.565kg', '0.443kg', '1.75kg', '0.21kg', '0.86kg',\n",
       "       '0.882kg', '0.4kg', '0.77kg', '2.2kg', '1.27kg', '0.809kg',\n",
       "       '0.378kg', '3.1kg', '1.84kg', '0.47kg', nan, '1.16kg', '1.1kg',\n",
       "       '0.087kg', '0.504kg', '480g', '12 x 100g', '8 x 150g', '6 x 412g',\n",
       "       '6 x 400g', '15kg', '160g', '180g', '112g', '120g', '96g', '125g',\n",
       "       '110g', '128g', '115g', '170g', '200g', '80g', '130g', '140g',\n",
       "       '53g', '500g', '100g', '700g', '750g', '800g', '8 x 85g',\n",
       "       '40 x 100g', '12 x 85g', '50g', '300g', '512g', '5.6kg', '6.4kg',\n",
       "       '10kg', '14.8kg', '2.9kg', '2.4kg', '6kg', '18.7kg', '11kg',\n",
       "       '7.5kg', '4.1kg', '13.7kg', '3.03kg', '3.8kg', '1.071kg', '13kg',\n",
       "       '1.5kg', '2.8kg', '6.2kg', '296g', '1.65kg', '1.06kg', '2290g',\n",
       "       '1950g', '1675g', '1550g', '1650g', '1450g', '1300g', '1100g',\n",
       "       '2200g', '1850g', '1800g', '1500g', '250g', '0.2kg', '1.55kg',\n",
       "       '1.40kg', '2100g', '1750g', '0.29kg', '450g', '10.5g', '280g',\n",
       "       '230g', '150g', '416g', '163g', '360g', '390g', '1470g', '520g',\n",
       "       '270g', '60g', '380g', '350g', '282g', '155g', '2.06kg', '3.2kg',\n",
       "       '2.5kg', '10.5kg', '4.3kg', '9kg', '31kg', '12.8kg', '32.1kg',\n",
       "       '16.7kg', '23.9kg', '20kg', '11.85kg', '18.5kg', '33kg', '8.2kg',\n",
       "       '970g', '2.280kg', '1.280kg', '1.200kg', '1.440kg', '550g', '30g',\n",
       "       '1230g', '52g', '45g', '650g', '340g', '265g', '1.09kg', '14g',\n",
       "       '998g', '335g', '28kg', '6.25kg', '9.3kg', '28.8kg', '35.5kg',\n",
       "       '537g', '375g', '260g', '600g', '61g', '165g', '475g', '26g',\n",
       "       '615g', '582g', '430g', '440g', '0.423kg', '0.126kg', '0.22kg',\n",
       "       '190g', '370g', '470g', '368g', '410g', '4.6kg', '3.4kg', '2.05kg',\n",
       "       '2.1kg', '1.76kg', '2.85kg', '2.36kg', '1.37kg', '1.72kg',\n",
       "       '1.73kg', '1.63kg', '0.75kg', '4.53kg', '3.45kg', '2.03kg',\n",
       "       '9GO9NZ5JTL', '4.5kg', '12.1kg', '9.4kg', '6.1kg', '4.2kg', '12kg',\n",
       "       '21kg', '7.8kg', '5.7kg', '5kg', '1760g', '3.75kg', '4.85kg',\n",
       "       '5.5kg', '11.6kg', '10.7kg', '22.5kg', '19.8kg', '8.5kg', '15.5kg',\n",
       "       '2.7kg', '27kg', '9.8kg', '12.5kg', '7.3kg', '8.4kg', '5.4kg',\n",
       "       '15.8kg', '3.9kg', '6.3kg', '7kg', '6.9kg', '11.2kg', '12.3kg',\n",
       "       '11.3kg', '15.6kg', '2.40kg', '2.70kg', '1.32kg', '1.80kg', '2.4g',\n",
       "       '1.38g', '3.65kg', '1020g', '1220g', '185g', '887g', '570g',\n",
       "       '365g', '0.24kg', '0.51kg', '0.25kg', '0.26kg', '0.81kg', '220g',\n",
       "       '310g', '490g', '0.202kg', '630g', 'Z8ZTDGUZVU', '330g', '850g',\n",
       "       '936g', '363g', '240g', '856g', '169g', '3.429kg', '2.770kg',\n",
       "       '1.870kg', '2.150kg', '1.250kg', '1510g', '1250g', '1700g',\n",
       "       '2050g', '1780g', '795g', '320g', '0.28kg', '226g', 'MX180RYSHX',\n",
       "       '422g', '184g', '580g', '245g', '7.4kg', '1320g', '1090g',\n",
       "       '1.56kg', '1160kg', '1060g', '1580g', '1365g', '2.14kg', '1.782kg',\n",
       "       '1.081kg', '0.964kg', '2.66kg', '3.028g', '0.944g', '1.5g',\n",
       "       '1.507g', '5.25kg', '3.82kg', '1.95kg', '1.05kg', '1.74kg',\n",
       "       '0.89kg', '2.29kg', '810g', '3.85kg', '70g', '100ml', '3 x 2g',\n",
       "       '4g', '60ml', '8g', '3 x 90g', '87g', '46g', '95g', '43g', '324g',\n",
       "       '152g', '141g', '94g', '351g', '92g', '132g', '105g', '16 x 10g',\n",
       "       '425g', '3 x 132g', '5 x 145g', '4 x 400g', '206g', '465g', '395g',\n",
       "       '300ml', '800ml', '225g', '167g', '131g', '2 x 200g', '391g',\n",
       "       '400g', '275g', '195g', '285g', '248g', '18g', '90g', '216g',\n",
       "       '201g', '77g .', '99g', '114g', '0.115kg', '0.196kg', '290g', '3g',\n",
       "       '16oz', '274g', '289g', '1.28kg', '820g', '134g'], dtype=object)"
      ]
     },
     "execution_count": 132,
     "metadata": {},
     "output_type": "execute_result"
    }
   ],
   "source": [
    "df[\"weight\"].unique()"
   ]
  },
  {
   "cell_type": "code",
   "execution_count": 184,
   "id": "2e9bdc53",
   "metadata": {},
   "outputs": [],
   "source": [
    "def _convert_product_weights(product: str) -> float:\n",
    "    \"\"\" This method will convert the product weights\n",
    "    :param product:\n",
    "    :return:\n",
    "    \"\"\"\n",
    "    if \"kg\" in product:\n",
    "        product = product.split(\"kg\")[0]\n",
    "        product = float(product)\n",
    "    elif \"g\" in product and \"x\" not in product:\n",
    "        product = product.split(\"g\")[0]\n",
    "        product = float(product) / 1000\n",
    "    elif \"ml\" in product:\n",
    "        product = product.split(\"ml\")[0]\n",
    "        product = float(product) / 1000\n",
    "    elif \"oz\" in product:\n",
    "        product = product.split(\"oz\")[0]\n",
    "        product = float(product) * 0.0283495\n",
    "    elif \"x\" in product:\n",
    "        product = product.split(\"x\")\n",
    "        product = (float(product[0].strip())) * float(product[1].strip().replace(\"g\", \"\")) / 1000\n",
    "    else:\n",
    "        product = np.nan\n",
    "    return product\n"
   ]
  },
  {
   "cell_type": "code",
   "execution_count": null,
   "id": "fa0b7fa5",
   "metadata": {},
   "outputs": [],
   "source": []
  },
  {
   "cell_type": "code",
   "execution_count": 177,
   "id": "b7f9a04a",
   "metadata": {},
   "outputs": [],
   "source": [
    "df_heavy = df.loc[(df[\"weight_mod\"] > 40) & (df[\"weight_mod\"] < 140)]"
   ]
  },
  {
   "cell_type": "code",
   "execution_count": 178,
   "id": "4d67e226",
   "metadata": {},
   "outputs": [
    {
     "data": {
      "text/html": [
       "<div>\n",
       "<style scoped>\n",
       "    .dataframe tbody tr th:only-of-type {\n",
       "        vertical-align: middle;\n",
       "    }\n",
       "\n",
       "    .dataframe tbody tr th {\n",
       "        vertical-align: top;\n",
       "    }\n",
       "\n",
       "    .dataframe thead th {\n",
       "        text-align: right;\n",
       "    }\n",
       "</style>\n",
       "<table border=\"1\" class=\"dataframe\">\n",
       "  <thead>\n",
       "    <tr style=\"text-align: right;\">\n",
       "      <th></th>\n",
       "      <th>Unnamed: 0</th>\n",
       "      <th>product_name</th>\n",
       "      <th>product_price</th>\n",
       "      <th>weight</th>\n",
       "      <th>category</th>\n",
       "      <th>EAN</th>\n",
       "      <th>date_added</th>\n",
       "      <th>uuid</th>\n",
       "      <th>removed</th>\n",
       "      <th>product_code</th>\n",
       "      <th>weight_mod</th>\n",
       "    </tr>\n",
       "  </thead>\n",
       "  <tbody>\n",
       "  </tbody>\n",
       "</table>\n",
       "</div>"
      ],
      "text/plain": [
       "Empty DataFrame\n",
       "Columns: [Unnamed: 0, product_name, product_price, weight, category, EAN, date_added, uuid, removed, product_code, weight_mod]\n",
       "Index: []"
      ]
     },
     "execution_count": 178,
     "metadata": {},
     "output_type": "execute_result"
    }
   ],
   "source": [
    "df_heavy.head(100)"
   ]
  },
  {
   "cell_type": "code",
   "execution_count": 160,
   "id": "fbd63a59",
   "metadata": {},
   "outputs": [],
   "source": [
    "import seaborn as sns"
   ]
  },
  {
   "cell_type": "code",
   "execution_count": 162,
   "id": "15cba195",
   "metadata": {},
   "outputs": [
    {
     "data": {
      "text/plain": [
       "<AxesSubplot:>"
      ]
     },
     "execution_count": 162,
     "metadata": {},
     "output_type": "execute_result"
    },
    {
     "data": {
      "image/png": "[encoded data removed]",
      "text/plain": [
       "<Figure size 640x480 with 1 Axes>"
      ]
     },
     "metadata": {},
     "output_type": "display_data"
    }
   ],
   "source": [
    "sns.boxplot(df[\"weight_mod\"])"
   ]
  },
  {
   "cell_type": "code",
   "execution_count": 163,
   "id": "c6f0a503",
   "metadata": {},
   "outputs": [
    {
     "data": {
      "text/html": [
       "<div>\n",
       "<style scoped>\n",
       "    .dataframe tbody tr th:only-of-type {\n",
       "        vertical-align: middle;\n",
       "    }\n",
       "\n",
       "    .dataframe tbody tr th {\n",
       "        vertical-align: top;\n",
       "    }\n",
       "\n",
       "    .dataframe thead th {\n",
       "        text-align: right;\n",
       "    }\n",
       "</style>\n",
       "<table border=\"1\" class=\"dataframe\">\n",
       "  <thead>\n",
       "    <tr style=\"text-align: right;\">\n",
       "      <th></th>\n",
       "      <th>Unnamed: 0</th>\n",
       "      <th>weight_mod</th>\n",
       "    </tr>\n",
       "  </thead>\n",
       "  <tbody>\n",
       "    <tr>\n",
       "      <th>count</th>\n",
       "      <td>1849.000000</td>\n",
       "      <td>1846.000000</td>\n",
       "    </tr>\n",
       "    <tr>\n",
       "      <th>mean</th>\n",
       "      <td>926.106003</td>\n",
       "      <td>3.004291</td>\n",
       "    </tr>\n",
       "    <tr>\n",
       "      <th>std</th>\n",
       "      <td>535.127254</td>\n",
       "      <td>27.300464</td>\n",
       "    </tr>\n",
       "    <tr>\n",
       "      <th>min</th>\n",
       "      <td>0.000000</td>\n",
       "      <td>0.000944</td>\n",
       "    </tr>\n",
       "    <tr>\n",
       "      <th>25%</th>\n",
       "      <td>463.000000</td>\n",
       "      <td>0.270000</td>\n",
       "    </tr>\n",
       "    <tr>\n",
       "      <th>50%</th>\n",
       "      <td>927.000000</td>\n",
       "      <td>0.718000</td>\n",
       "    </tr>\n",
       "    <tr>\n",
       "      <th>75%</th>\n",
       "      <td>1389.000000</td>\n",
       "      <td>2.060000</td>\n",
       "    </tr>\n",
       "    <tr>\n",
       "      <th>max</th>\n",
       "      <td>1852.000000</td>\n",
       "      <td>1160.000000</td>\n",
       "    </tr>\n",
       "  </tbody>\n",
       "</table>\n",
       "</div>"
      ],
      "text/plain": [
       "        Unnamed: 0   weight_mod\n",
       "count  1849.000000  1846.000000\n",
       "mean    926.106003     3.004291\n",
       "std     535.127254    27.300464\n",
       "min       0.000000     0.000944\n",
       "25%     463.000000     0.270000\n",
       "50%     927.000000     0.718000\n",
       "75%    1389.000000     2.060000\n",
       "max    1852.000000  1160.000000"
      ]
     },
     "execution_count": 163,
     "metadata": {},
     "output_type": "execute_result"
    }
   ],
   "source": [
    "df.describe()"
   ]
  },
  {
   "cell_type": "code",
   "execution_count": 169,
   "id": "90984fe1",
   "metadata": {},
   "outputs": [],
   "source": [
    "df.dropna(inplace=True)"
   ]
  },
  {
   "cell_type": "code",
   "execution_count": 171,
   "id": "1c460da8",
   "metadata": {},
   "outputs": [
    {
     "data": {
      "text/plain": [
       "(1846, 11)"
      ]
     },
     "execution_count": 171,
     "metadata": {},
     "output_type": "execute_result"
    }
   ],
   "source": [
    "df.shape"
   ]
  },
  {
   "cell_type": "code",
   "execution_count": 170,
   "id": "bdcd6d18",
   "metadata": {},
   "outputs": [],
   "source": [
    "df.to_csv(\"products.csv\", index=False)"
   ]
  },
  {
   "cell_type": "code",
   "execution_count": null,
   "id": "f8989655",
   "metadata": {},
   "outputs": [],
   "source": []
  }
 ],
 "metadata": {
  "kernelspec": {
   "display_name": "Python 3 (ipykernel)",
   "language": "python",
   "name": "python3"
  },
  "language_info": {
   "codemirror_mode": {
    "name": "ipython",
    "version": 3
   },
   "file_extension": ".py",
   "mimetype": "text/x-python",
   "name": "python",
   "nbconvert_exporter": "python",
   "pygments_lexer": "ipython3",
   "version": "3.10.13"
  }
 },
 "nbformat": 4,
 "nbformat_minor": 5
}
