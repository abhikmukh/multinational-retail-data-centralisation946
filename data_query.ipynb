{
 "cells": [
  {
   "cell_type": "markdown",
   "metadata": {},
   "source": [
    "This notebook is for milestone 4 and has got answers to business questions. SQL queries are stored in sql_files folder."
   ]
  },
  {
   "cell_type": "code",
   "execution_count": 2,
   "metadata": {},
   "outputs": [],
   "source": [
    "import os\n",
    "import pandas as pd\n",
    "from sqlalchemy import create_engine\n",
    "from sqlalchemy import inspect"
   ]
  },
  {
   "cell_type": "code",
   "execution_count": 3,
   "metadata": {},
   "outputs": [],
   "source": [
    "from tabulate import tabulate\n"
   ]
  },
  {
   "cell_type": "code",
   "execution_count": 4,
   "metadata": {},
   "outputs": [],
   "source": [
    "from mrdc import database_utils\n",
    "from mrdc import data_extraction\n",
    "from mrdc import data_cleaning\n"
   ]
  },
  {
   "cell_type": "code",
   "execution_count": 5,
   "metadata": {},
   "outputs": [],
   "source": [
    "base_path = os.getcwd()\n",
    "postgres_data_connector = database_utils.DatabaseConnector(base_path=base_path, cred_file=\"local_db_creds.yaml\")\n",
    "sql_file_path = \"sql_files\""
   ]
  },
  {
   "cell_type": "markdown",
   "metadata": {},
   "source": [
    "Task - 1: How many does the business have?"
   ]
  },
  {
   "cell_type": "code",
   "execution_count": 6,
   "metadata": {},
   "outputs": [
    {
     "name": "stdout",
     "output_type": "stream",
     "text": [
      "--  ---\n",
      "GB  257\n",
      "DE  136\n",
      "US   33\n",
      "--  ---\n"
     ]
    }
   ],
   "source": [
    "query1_file_path = os.path.join(sql_file_path, \"query_1.sql\")\n",
    "print(tabulate(postgres_data_connector.run_query(query1_file_path)))\n"
   ]
  },
  {
   "cell_type": "markdown",
   "metadata": {},
   "source": [
    "Task-2: Which locations currently have most stores?"
   ]
  },
  {
   "cell_type": "code",
   "execution_count": 7,
   "metadata": {},
   "outputs": [
    {
     "name": "stdout",
     "output_type": "stream",
     "text": [
      "------------  --\n",
      "Chapletown    14\n",
      "Belper        13\n",
      "Exeter        11\n",
      "High Wycombe  10\n",
      "Arbroath      10\n",
      "Bushey        10\n",
      "Surbiton       9\n",
      "Lancing        9\n",
      "Rutherglen     9\n",
      "Aberdeen       8\n",
      "------------  --\n"
     ]
    }
   ],
   "source": [
    "query2_file_path = os.path.join(sql_file_path, \"query_2.sql\")\n",
    "print(tabulate(postgres_data_connector.run_query(query2_file_path)))"
   ]
  },
  {
   "cell_type": "markdown",
   "metadata": {},
   "source": [
    "Task-3: "
   ]
  },
  {
   "cell_type": "code",
   "execution_count": 8,
   "metadata": {},
   "outputs": [],
   "source": [
    "query3_file_path = os.path.join(sql_file_path, \"query_3.sql\")"
   ]
  },
  {
   "cell_type": "code",
   "execution_count": 9,
   "metadata": {},
   "outputs": [
    {
     "name": "stdout",
     "output_type": "stream",
     "text": [
      "+-----+--------+\n",
      "|   0 |      1 |\n",
      "|-----+--------|\n",
      "|   1 | 469799 |\n",
      "|   8 | 465802 |\n",
      "|   5 | 455947 |\n",
      "|  10 | 452585 |\n",
      "|   3 | 450807 |\n",
      "|  12 | 449296 |\n",
      "|   7 | 448233 |\n",
      "|   9 | 445848 |\n",
      "|   6 | 445724 |\n",
      "|  11 | 441187 |\n",
      "|   4 | 433046 |\n",
      "|   2 | 422757 |\n",
      "+-----+--------+\n"
     ]
    }
   ],
   "source": [
    "print(tabulate(postgres_data_connector.run_query(query3_file_path), headers='keys', tablefmt='psql'))"
   ]
  },
  {
   "cell_type": "markdown",
   "metadata": {},
   "source": [
    "Task-4 How many sales are coming online?"
   ]
  },
  {
   "cell_type": "code",
   "execution_count": 10,
   "metadata": {},
   "outputs": [],
   "source": [
    "query4_file_path = os.path.join(sql_file_path, \"query_4.sql\")"
   ]
  },
  {
   "cell_type": "code",
   "execution_count": 11,
   "metadata": {},
   "outputs": [
    {
     "name": "stdout",
     "output_type": "stream",
     "text": [
      "+-------+--------+------------+\n",
      "|     0 |      1 | 2          |\n",
      "|-------+--------+------------|\n",
      "| 64416 | 258374 | Offline    |\n",
      "| 19230 |  76475 | Web Portal |\n",
      "+-------+--------+------------+\n"
     ]
    }
   ],
   "source": [
    "print(tabulate(postgres_data_connector.run_query(query4_file_path), headers='keys', tablefmt='psql'))"
   ]
  },
  {
   "cell_type": "markdown",
   "metadata": {},
   "source": [
    "Task 5: What percentage of sales comes through each store?"
   ]
  },
  {
   "cell_type": "code",
   "execution_count": 12,
   "metadata": {},
   "outputs": [
    {
     "name": "stdout",
     "output_type": "stream",
     "text": [
      "+-------------+-------------+-----------+\n",
      "| 0           |           1 |         2 |\n",
      "|-------------+-------------+-----------|\n",
      "| Local       | 1.32373e+09 | 57.7465   |\n",
      "| Mall Kiosk  | 2.63671e+08 | 11.5023   |\n",
      "| Outlet      | 2.31384e+08 | 10.0939   |\n",
      "| Super Store | 4.6815e+08  | 20.4225   |\n",
      "| Web Portal  | 5.38103e+06 |  0.234742 |\n",
      "+-------------+-------------+-----------+\n"
     ]
    }
   ],
   "source": [
    "query5_file_path = os.path.join(sql_file_path, \"query_5.sql\")\n",
    "print(tabulate(postgres_data_connector.run_query(query5_file_path), headers='keys', tablefmt='psql'))"
   ]
  },
  {
   "cell_type": "markdown",
   "metadata": {},
   "source": [
    "Task 6: Which month in each year produced the highest sale?"
   ]
  },
  {
   "cell_type": "code",
   "execution_count": 13,
   "metadata": {},
   "outputs": [
    {
     "name": "stdout",
     "output_type": "stream",
     "text": [
      "+-----+------+---------+\n",
      "|   0 |    1 |       2 |\n",
      "|-----+------+---------|\n",
      "|   1 | 2000 | 19552.8 |\n",
      "|   8 | 1996 | 19130.3 |\n",
      "|   9 | 2017 | 19042   |\n",
      "|  12 | 2003 | 18762.4 |\n",
      "|   5 | 2010 | 18733   |\n",
      "|   5 | 1999 | 18675.6 |\n",
      "|   8 | 2019 | 18652.6 |\n",
      "|  10 | 2020 | 18606.3 |\n",
      "|   7 | 2003 | 18327   |\n",
      "|  11 | 2021 | 18286.9 |\n",
      "+-----+------+---------+\n"
     ]
    }
   ],
   "source": [
    "query6_file_path = os.path.join(sql_file_path, \"query_6.sql\")\n",
    "print(tabulate(postgres_data_connector.run_query(query6_file_path), headers='keys', tablefmt='psql'))"
   ]
  },
  {
   "cell_type": "markdown",
   "metadata": {},
   "source": [
    "Task 7 : What is our staff headcount?"
   ]
  },
  {
   "cell_type": "code",
   "execution_count": 14,
   "metadata": {},
   "outputs": [
    {
     "name": "stdout",
     "output_type": "stream",
     "text": [
      "+-----+-------+\n",
      "| 0   |     1 |\n",
      "|-----+-------|\n",
      "| GB  | 12875 |\n",
      "| DE  |  6016 |\n",
      "| US  |  1304 |\n",
      "+-----+-------+\n"
     ]
    }
   ],
   "source": [
    "query7_file_path = os.path.join(sql_file_path, \"query_7.sql\")\n",
    "print(tabulate(postgres_data_connector.run_query(query7_file_path), headers='keys', tablefmt='psql'))"
   ]
  },
  {
   "cell_type": "markdown",
   "metadata": {},
   "source": [
    "Task 8: which german store type is selling the most?"
   ]
  },
  {
   "cell_type": "code",
   "execution_count": 15,
   "metadata": {},
   "outputs": [
    {
     "name": "stdout",
     "output_type": "stream",
     "text": [
      "+-------------+-----+--------+\n",
      "| 0           | 1   |      2 |\n",
      "|-------------+-----+--------|\n",
      "| Outlet      | DE  | 137271 |\n",
      "| Mall Kiosk  | DE  | 162048 |\n",
      "| Super Store | DE  | 270294 |\n",
      "| Local       | DE  | 768281 |\n",
      "+-------------+-----+--------+\n"
     ]
    }
   ],
   "source": [
    "query8_file_path = os.path.join(sql_file_path, \"query_8.sql\")\n",
    "print(tabulate(postgres_data_connector.run_query(query8_file_path), headers='keys', tablefmt='psql'))"
   ]
  },
  {
   "cell_type": "markdown",
   "metadata": {},
   "source": [
    "Task 9: How qucikly is the company making sales?\n"
   ]
  },
  {
   "cell_type": "code",
   "execution_count": 16,
   "metadata": {},
   "outputs": [
    {
     "name": "stdout",
     "output_type": "stream",
     "text": [
      "+------+----------------+\n",
      "|    0 | 1              |\n",
      "|------+----------------|\n",
      "| 2013 | 2:17:15.655442 |\n",
      "| 1993 | 2:15:42.230194 |\n",
      "| 2002 | 2:13:51.523434 |\n",
      "| 2008 | 2:13:03.532442 |\n",
      "| 2022 | 2:13:02.003698 |\n",
      "| 1995 | 2:12:59.084514 |\n",
      "| 2016 | 2:12:58.099167 |\n",
      "| 2011 | 2:12:29.826536 |\n",
      "| 2020 | 2:12:10.518667 |\n",
      "| 2021 | 2:11:48.370733 |\n",
      "| 2012 | 2:11:46.260641 |\n",
      "| 2009 | 2:11:26.773807 |\n",
      "| 2010 | 2:11:11.534715 |\n",
      "| 1996 | 2:11:11.387674 |\n",
      "| 2007 | 2:11:09.955079 |\n",
      "| 1999 | 2:11:04.353455 |\n",
      "| 2000 | 2:11:02.099627 |\n",
      "| 2001 | 2:10:48.234021 |\n",
      "| 2019 | 2:10:47.072673 |\n",
      "| 2018 | 2:10:45.547850 |\n",
      "| 1994 | 2:10:39.921642 |\n",
      "| 2004 | 2:10:29.233837 |\n",
      "| 2006 | 2:10:15.657079 |\n",
      "| 2014 | 2:10:06.066848 |\n",
      "| 1997 | 2:09:48.347923 |\n",
      "| 2015 | 2:09:46.364085 |\n",
      "| 1992 | 2:09:36.141256 |\n",
      "| 2005 | 2:09:04.849779 |\n",
      "| 2003 | 2:08:41.323695 |\n",
      "| 2017 | 2:08:38.187653 |\n",
      "| 1998 | 2:08:08.009995 |\n",
      "+------+----------------+\n"
     ]
    }
   ],
   "source": [
    "query9_file_path = os.path.join(sql_file_path, \"query_9.sql\")\n",
    "print(tabulate(postgres_data_connector.run_query(query9_file_path), headers='keys', tablefmt='psql'))"
   ]
  },
  {
   "cell_type": "code",
   "execution_count": null,
   "metadata": {},
   "outputs": [],
   "source": []
  }
 ],
 "metadata": {
  "kernelspec": {
   "display_name": "aicore",
   "language": "python",
   "name": "python3"
  },
  "language_info": {
   "codemirror_mode": {
    "name": "ipython",
    "version": 3
   },
   "file_extension": ".py",
   "mimetype": "text/x-python",
   "name": "python",
   "nbconvert_exporter": "python",
   "pygments_lexer": "ipython3",
   "version": "3.10.13"
  }
 },
 "nbformat": 4,
 "nbformat_minor": 2
}
