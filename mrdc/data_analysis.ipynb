{
 "cells": [
  {
   "cell_type": "markdown",
   "id": "350fecca-0f74-454d-b7bd-5c67a7bb5c01",
   "metadata": {},
   "source": [
    "Notebook to analyse user data"
   ]
  },
  {
   "cell_type": "code",
   "execution_count": 1,
   "id": "0e1132f0-e305-433c-9632-49ba0ffa4c76",
   "metadata": {},
   "outputs": [],
   "source": [
    "import yaml\n",
    "import os\n",
    "import pandas as pd\n",
    "from sqlalchemy import create_engine\n",
    "from sqlalchemy import inspect"
   ]
  },
  {
   "cell_type": "code",
   "execution_count": 2,
   "id": "5bf26b5d-ae57-48ac-8785-59537b3995c2",
   "metadata": {},
   "outputs": [],
   "source": [
    "class DatabaseConnector:\n",
    "    def __init__(self, base_path, cred_file):\n",
    "        self.base_path = base_path\n",
    "        self.cred_file = cred_file\n",
    "\n",
    "    def read_db_creds(self):\n",
    "        full_file_path = os.path.join(self.base_path, self.cred_file)\n",
    "        with open(full_file_path, 'r') as file:\n",
    "            data = yaml.safe_load(file)\n",
    "            return data\n",
    "\n",
    "    def init_db_engine(self):\n",
    "        database_cred = self.read_db_creds()\n",
    "        database_uri = f\"postgresql+psycopg2://{database_cred['RDS_USER']}\" \\\n",
    "                       f\":{database_cred['RDS_PASSWORD']}@{database_cred['RDS_HOST']}:\" \\\n",
    "                       f\"{database_cred['RDS_PORT']}/{database_cred['RDS_DATABASE']}\"\n",
    "        database_engine = create_engine(database_uri)\n",
    "        return database_engine\n",
    "\n",
    "    def list_db_table(self):\n",
    "        engine = self.init_db_engine()\n",
    "        inspector = inspect(engine)\n",
    "        list_all_tables = inspector.get_table_names()\n",
    "        return list_all_tables\n",
    "\n",
    "    def upload_to_db(self, df, table_name):\n",
    "        engine = self.init_db_engine()\n",
    "        df.to_sql(name=table_name, con=engine)\n"
   ]
  },
  {
   "cell_type": "code",
   "execution_count": 3,
   "id": "0c211405-3f37-446b-b423-ee51b55c654c",
   "metadata": {},
   "outputs": [],
   "source": [
    "class DataExtractor:\n",
    "\n",
    "    def read_rds_table(self, data_connector, table_name):\n",
    "\n",
    "        all_tables = data_connector.list_db_table()\n",
    "        for table in all_tables:\n",
    "            if table_name == table:\n",
    "                df = pd.read_sql_table(table, data_connector.init_db_engine())\n",
    "                return df\n",
    "\n",
    "    def retrieve_pdf_data(self, pdf_path):\n",
    "        dfs = tabula.read_pdf(pdf_path, lattice=True, pages=\"all\")\n",
    "        df = pd.concat(dfs)\n",
    "        return df"
   ]
  },
  {
   "cell_type": "code",
   "execution_count": null,
   "id": "0a6f889f-ada1-4e24-ab41-48b6b523872e",
   "metadata": {},
   "outputs": [],
   "source": []
  },
  {
   "cell_type": "code",
   "execution_count": 7,
   "id": "b11069e4-a27d-4a07-a5da-f80de75b18d7",
   "metadata": {},
   "outputs": [
    {
     "data": {
      "text/plain": [
       "['legacy_store_details', 'legacy_users', 'orders_table']"
      ]
     },
     "execution_count": 7,
     "metadata": {},
     "output_type": "execute_result"
    }
   ],
   "source": [
    "base_path = r\"C:\\Users\\abhik\\Documents\\aicore\\multinational-retail-data-centralisation946\"\n",
    "data_connector = DatabaseConnector(base_path=base_path, cred_file=\"db_creds.yaml\")\n",
    "data_extractor = DataExtractor()\n",
    "data_connector.list_db_table()\n"
   ]
  },
  {
   "cell_type": "code",
   "execution_count": 9,
   "id": "08095a6f-4974-405c-9310-d536dc066243",
   "metadata": {},
   "outputs": [
    {
     "data": {
      "text/html": [
       "<div>\n",
       "<style scoped>\n",
       "    .dataframe tbody tr th:only-of-type {\n",
       "        vertical-align: middle;\n",
       "    }\n",
       "\n",
       "    .dataframe tbody tr th {\n",
       "        vertical-align: top;\n",
       "    }\n",
       "\n",
       "    .dataframe thead th {\n",
       "        text-align: right;\n",
       "    }\n",
       "</style>\n",
       "<table border=\"1\" class=\"dataframe\">\n",
       "  <thead>\n",
       "    <tr style=\"text-align: right;\">\n",
       "      <th></th>\n",
       "      <th>index</th>\n",
       "      <th>first_name</th>\n",
       "      <th>last_name</th>\n",
       "      <th>date_of_birth</th>\n",
       "      <th>company</th>\n",
       "      <th>email_address</th>\n",
       "      <th>address</th>\n",
       "      <th>country</th>\n",
       "      <th>country_code</th>\n",
       "      <th>phone_number</th>\n",
       "      <th>join_date</th>\n",
       "      <th>user_uuid</th>\n",
       "    </tr>\n",
       "  </thead>\n",
       "  <tbody>\n",
       "    <tr>\n",
       "      <th>0</th>\n",
       "      <td>0</td>\n",
       "      <td>Sigfried</td>\n",
       "      <td>Noack</td>\n",
       "      <td>1990-09-30</td>\n",
       "      <td>Heydrich Junitz KG</td>\n",
       "      <td>rudi79@winkler.de</td>\n",
       "      <td>Zimmerstr. 1/0\\n59015 Gießen</td>\n",
       "      <td>Germany</td>\n",
       "      <td>DE</td>\n",
       "      <td>+49(0) 047905356</td>\n",
       "      <td>2018-10-10</td>\n",
       "      <td>93caf182-e4e9-4c6e-bebb-60a1a9dcf9b8</td>\n",
       "    </tr>\n",
       "    <tr>\n",
       "      <th>1</th>\n",
       "      <td>1</td>\n",
       "      <td>Guy</td>\n",
       "      <td>Allen</td>\n",
       "      <td>1940-12-01</td>\n",
       "      <td>Fox Ltd</td>\n",
       "      <td>rhodesclifford@henderson.com</td>\n",
       "      <td>Studio 22a\\nLynne terrace\\nMcCarthymouth\\nTF0 9GH</td>\n",
       "      <td>United Kingdom</td>\n",
       "      <td>GB</td>\n",
       "      <td>(0161) 496 0674</td>\n",
       "      <td>2001-12-20</td>\n",
       "      <td>8fe96c3a-d62d-4eb5-b313-cf12d9126a49</td>\n",
       "    </tr>\n",
       "    <tr>\n",
       "      <th>2</th>\n",
       "      <td>2</td>\n",
       "      <td>Harry</td>\n",
       "      <td>Lawrence</td>\n",
       "      <td>1995-08-02</td>\n",
       "      <td>Johnson, Jones and Harris</td>\n",
       "      <td>glen98@bryant-marshall.co.uk</td>\n",
       "      <td>92 Ann drive\\nJoanborough\\nSK0 6LR</td>\n",
       "      <td>United Kingdom</td>\n",
       "      <td>GB</td>\n",
       "      <td>+44(0)121 4960340</td>\n",
       "      <td>2016-12-16</td>\n",
       "      <td>fc461df4-b919-48b2-909e-55c95a03fe6b</td>\n",
       "    </tr>\n",
       "    <tr>\n",
       "      <th>3</th>\n",
       "      <td>3</td>\n",
       "      <td>Darren</td>\n",
       "      <td>Hussain</td>\n",
       "      <td>1972-09-23</td>\n",
       "      <td>Wheeler LLC</td>\n",
       "      <td>daniellebryan@thompson.org</td>\n",
       "      <td>19 Robinson meadow\\nNew Tracy\\nW22 2QG</td>\n",
       "      <td>United Kingdom</td>\n",
       "      <td>GB</td>\n",
       "      <td>(0306) 999 0871</td>\n",
       "      <td>2004-02-23</td>\n",
       "      <td>6104719f-ef14-4b09-bf04-fb0c4620acb0</td>\n",
       "    </tr>\n",
       "    <tr>\n",
       "      <th>4</th>\n",
       "      <td>4</td>\n",
       "      <td>Garry</td>\n",
       "      <td>Stone</td>\n",
       "      <td>1952-12-20</td>\n",
       "      <td>Warner Inc</td>\n",
       "      <td>billy14@long-warren.com</td>\n",
       "      <td>3 White pass\\nHunterborough\\nNN96 4UE</td>\n",
       "      <td>United Kingdom</td>\n",
       "      <td>GB</td>\n",
       "      <td>0121 496 0225</td>\n",
       "      <td>2006-09-01</td>\n",
       "      <td>9523a6d3-b2dd-4670-a51a-36aebc89f579</td>\n",
       "    </tr>\n",
       "  </tbody>\n",
       "</table>\n",
       "</div>"
      ],
      "text/plain": [
       "   index first_name last_name date_of_birth                    company  \\\n",
       "0      0   Sigfried     Noack    1990-09-30         Heydrich Junitz KG   \n",
       "1      1        Guy     Allen    1940-12-01                    Fox Ltd   \n",
       "2      2      Harry  Lawrence    1995-08-02  Johnson, Jones and Harris   \n",
       "3      3     Darren   Hussain    1972-09-23                Wheeler LLC   \n",
       "4      4      Garry     Stone    1952-12-20                 Warner Inc   \n",
       "\n",
       "                  email_address  \\\n",
       "0             rudi79@winkler.de   \n",
       "1  rhodesclifford@henderson.com   \n",
       "2  glen98@bryant-marshall.co.uk   \n",
       "3    daniellebryan@thompson.org   \n",
       "4       billy14@long-warren.com   \n",
       "\n",
       "                                             address         country  \\\n",
       "0                       Zimmerstr. 1/0\\n59015 Gießen         Germany   \n",
       "1  Studio 22a\\nLynne terrace\\nMcCarthymouth\\nTF0 9GH  United Kingdom   \n",
       "2                 92 Ann drive\\nJoanborough\\nSK0 6LR  United Kingdom   \n",
       "3             19 Robinson meadow\\nNew Tracy\\nW22 2QG  United Kingdom   \n",
       "4              3 White pass\\nHunterborough\\nNN96 4UE  United Kingdom   \n",
       "\n",
       "  country_code       phone_number   join_date  \\\n",
       "0           DE   +49(0) 047905356  2018-10-10   \n",
       "1           GB    (0161) 496 0674  2001-12-20   \n",
       "2           GB  +44(0)121 4960340  2016-12-16   \n",
       "3           GB    (0306) 999 0871  2004-02-23   \n",
       "4           GB      0121 496 0225  2006-09-01   \n",
       "\n",
       "                              user_uuid  \n",
       "0  93caf182-e4e9-4c6e-bebb-60a1a9dcf9b8  \n",
       "1  8fe96c3a-d62d-4eb5-b313-cf12d9126a49  \n",
       "2  fc461df4-b919-48b2-909e-55c95a03fe6b  \n",
       "3  6104719f-ef14-4b09-bf04-fb0c4620acb0  \n",
       "4  9523a6d3-b2dd-4670-a51a-36aebc89f579  "
      ]
     },
     "execution_count": 9,
     "metadata": {},
     "output_type": "execute_result"
    }
   ],
   "source": [
    "data_df = data_extractor.read_rds_table(data_connector, table_name=\"legacy_users\")\n",
    "data_df.head()"
   ]
  },
  {
   "cell_type": "code",
   "execution_count": 13,
   "id": "bd891240-f990-4b10-bbe3-bf0afff25b98",
   "metadata": {},
   "outputs": [
    {
     "data": {
      "text/plain": [
       "(15320, 12)"
      ]
     },
     "execution_count": 13,
     "metadata": {},
     "output_type": "execute_result"
    }
   ],
   "source": [
    "data_df.shape"
   ]
  },
  {
   "cell_type": "code",
   "execution_count": 14,
   "id": "3754513c-8279-442d-acfb-f38448434eee",
   "metadata": {},
   "outputs": [
    {
     "data": {
      "text/plain": [
       "index            0\n",
       "first_name       0\n",
       "last_name        0\n",
       "date_of_birth    0\n",
       "company          0\n",
       "email_address    0\n",
       "address          0\n",
       "country          0\n",
       "country_code     0\n",
       "phone_number     0\n",
       "join_date        0\n",
       "user_uuid        0\n",
       "dtype: int64"
      ]
     },
     "execution_count": 14,
     "metadata": {},
     "output_type": "execute_result"
    }
   ],
   "source": [
    "data_df.isnull().sum()"
   ]
  },
  {
   "cell_type": "code",
   "execution_count": 15,
   "id": "ca55d51f-e54c-4f1f-9343-634cef5bf77d",
   "metadata": {},
   "outputs": [
    {
     "data": {
      "text/plain": [
       "index            0\n",
       "first_name       0\n",
       "last_name        0\n",
       "date_of_birth    0\n",
       "company          0\n",
       "email_address    0\n",
       "address          0\n",
       "country          0\n",
       "country_code     0\n",
       "phone_number     0\n",
       "join_date        0\n",
       "user_uuid        0\n",
       "dtype: int64"
      ]
     },
     "execution_count": 15,
     "metadata": {},
     "output_type": "execute_result"
    }
   ],
   "source": [
    "data_df.isna().sum()"
   ]
  },
  {
   "cell_type": "code",
   "execution_count": 31,
   "id": "9eb355dc-df5e-4966-8b49-99617d3b1040",
   "metadata": {},
   "outputs": [
    {
     "name": "stdout",
     "output_type": "stream",
     "text": [
      "wrong date format present\n"
     ]
    }
   ],
   "source": [
    "if pd.to_datetime(data_df['date_of_birth'], format='%Y-%m-%d', errors='coerce').notnull().all():\n",
    "    print(\"no error\")\n",
    "else:\n",
    "    print(\"wrong date format present\")\n",
    "    "
   ]
  },
  {
   "cell_type": "code",
   "execution_count": 30,
   "id": "a24ac308-17a8-4c5c-a1b1-26cb89149d45",
   "metadata": {},
   "outputs": [
    {
     "name": "stdout",
     "output_type": "stream",
     "text": [
      "time data \"1968 October 16\" doesn't match format \"%Y-%m-%d\", at position 360. You might want to try:\n",
      "    - passing `format` if your strings have a consistent format;\n",
      "    - passing `format='ISO8601'` if your strings are all ISO8601 but not necessarily in exactly the same format;\n",
      "    - passing `format='mixed'`, and the format will be inferred for each element individually. You might want to use `dayfirst` alongside this.\n"
     ]
    }
   ],
   "source": [
    "try:\n",
    "    pd.to_datetime(data_df['date_of_birth'], format='%Y-%m-%d', errors=\"raise\")\n",
    "except ValueError as e:\n",
    "    print(e)"
   ]
  },
  {
   "cell_type": "code",
   "execution_count": 32,
   "id": "09aeeaa1-586a-4fbd-9f57-60220dc41b28",
   "metadata": {},
   "outputs": [],
   "source": [
    "nan_df = pd.to_datetime(data_df['date_of_birth'], format='%Y-%m-%d', errors=\"coerce\")\n",
    "# above will return NaN when the format not match \n",
    "clean_df = data_df[nan_df.notna()]"
   ]
  },
  {
   "cell_type": "code",
   "execution_count": 33,
   "id": "5b158a11-9819-474f-b0ba-cc7ab85e1828",
   "metadata": {},
   "outputs": [
    {
     "data": {
      "text/plain": [
       "0       1990-09-30\n",
       "1       1940-12-01\n",
       "2       1995-08-02\n",
       "3       1972-09-23\n",
       "4       1952-12-20\n",
       "           ...    \n",
       "15315   1943-08-09\n",
       "15316   1948-08-20\n",
       "15317   1940-10-09\n",
       "15318   1952-06-04\n",
       "15319   1994-03-27\n",
       "Name: date_of_birth, Length: 15257, dtype: datetime64[ns]"
      ]
     },
     "execution_count": 33,
     "metadata": {},
     "output_type": "execute_result"
    }
   ],
   "source": [
    "pd.to_datetime(clean_df['date_of_birth'], format='%Y-%m-%d')"
   ]
  },
  {
   "cell_type": "code",
   "execution_count": 34,
   "id": "368add90-e107-4020-b821-e9b84dfdcf4b",
   "metadata": {},
   "outputs": [
    {
     "name": "stdout",
     "output_type": "stream",
     "text": [
      "<class 'pandas.core.frame.DataFrame'>\n",
      "Index: 15257 entries, 0 to 15319\n",
      "Data columns (total 12 columns):\n",
      " #   Column         Non-Null Count  Dtype \n",
      "---  ------         --------------  ----- \n",
      " 0   index          15257 non-null  int64 \n",
      " 1   first_name     15257 non-null  object\n",
      " 2   last_name      15257 non-null  object\n",
      " 3   date_of_birth  15257 non-null  object\n",
      " 4   company        15257 non-null  object\n",
      " 5   email_address  15257 non-null  object\n",
      " 6   address        15257 non-null  object\n",
      " 7   country        15257 non-null  object\n",
      " 8   country_code   15257 non-null  object\n",
      " 9   phone_number   15257 non-null  object\n",
      " 10  join_date      15257 non-null  object\n",
      " 11  user_uuid      15257 non-null  object\n",
      "dtypes: int64(1), object(11)\n",
      "memory usage: 1.5+ MB\n"
     ]
    }
   ],
   "source": [
    "clean_df.info()"
   ]
  },
  {
   "cell_type": "code",
   "execution_count": 44,
   "id": "cf74d249-c54c-46eb-abe3-3ac08686635a",
   "metadata": {},
   "outputs": [
    {
     "data": {
      "text/html": [
       "<div>\n",
       "<style scoped>\n",
       "    .dataframe tbody tr th:only-of-type {\n",
       "        vertical-align: middle;\n",
       "    }\n",
       "\n",
       "    .dataframe tbody tr th {\n",
       "        vertical-align: top;\n",
       "    }\n",
       "\n",
       "    .dataframe thead th {\n",
       "        text-align: right;\n",
       "    }\n",
       "</style>\n",
       "<table border=\"1\" class=\"dataframe\">\n",
       "  <thead>\n",
       "    <tr style=\"text-align: right;\">\n",
       "      <th></th>\n",
       "      <th>index</th>\n",
       "    </tr>\n",
       "  </thead>\n",
       "  <tbody>\n",
       "    <tr>\n",
       "      <th>count</th>\n",
       "      <td>15320.000000</td>\n",
       "    </tr>\n",
       "    <tr>\n",
       "      <th>mean</th>\n",
       "      <td>7659.500000</td>\n",
       "    </tr>\n",
       "    <tr>\n",
       "      <th>std</th>\n",
       "      <td>4422.647397</td>\n",
       "    </tr>\n",
       "    <tr>\n",
       "      <th>min</th>\n",
       "      <td>0.000000</td>\n",
       "    </tr>\n",
       "    <tr>\n",
       "      <th>25%</th>\n",
       "      <td>3829.750000</td>\n",
       "    </tr>\n",
       "    <tr>\n",
       "      <th>50%</th>\n",
       "      <td>7659.500000</td>\n",
       "    </tr>\n",
       "    <tr>\n",
       "      <th>75%</th>\n",
       "      <td>11489.250000</td>\n",
       "    </tr>\n",
       "    <tr>\n",
       "      <th>max</th>\n",
       "      <td>15319.000000</td>\n",
       "    </tr>\n",
       "  </tbody>\n",
       "</table>\n",
       "</div>"
      ],
      "text/plain": [
       "              index\n",
       "count  15320.000000\n",
       "mean    7659.500000\n",
       "std     4422.647397\n",
       "min        0.000000\n",
       "25%     3829.750000\n",
       "50%     7659.500000\n",
       "75%    11489.250000\n",
       "max    15319.000000"
      ]
     },
     "execution_count": 44,
     "metadata": {},
     "output_type": "execute_result"
    }
   ],
   "source": [
    "\n",
    "data_df.describe()\n"
   ]
  },
  {
   "cell_type": "code",
   "execution_count": 37,
   "id": "c9846c01-c1ac-4967-b6ec-e3f19566bed5",
   "metadata": {},
   "outputs": [],
   "source": []
  },
  {
   "cell_type": "code",
   "execution_count": null,
   "id": "41cedfeb-1745-4b6d-a73d-a6f9fc6f7821",
   "metadata": {},
   "outputs": [],
   "source": []
  },
  {
   "cell_type": "code",
   "execution_count": null,
   "id": "d8a7dd12-4bc9-4f07-9519-6e09d08affd0",
   "metadata": {},
   "outputs": [],
   "source": []
  },
  {
   "cell_type": "code",
   "execution_count": null,
   "id": "368e734c-d3df-4248-86d2-721705ff854c",
   "metadata": {},
   "outputs": [],
   "source": []
  }
 ],
 "metadata": {
  "kernelspec": {
   "display_name": "Python 3 (ipykernel)",
   "language": "python",
   "name": "python3"
  },
  "language_info": {
   "codemirror_mode": {
    "name": "ipython",
    "version": 3
   },
   "file_extension": ".py",
   "mimetype": "text/x-python",
   "name": "python",
   "nbconvert_exporter": "python",
   "pygments_lexer": "ipython3",
   "version": "3.10.13"
  }
 },
 "nbformat": 4,
 "nbformat_minor": 5
}
